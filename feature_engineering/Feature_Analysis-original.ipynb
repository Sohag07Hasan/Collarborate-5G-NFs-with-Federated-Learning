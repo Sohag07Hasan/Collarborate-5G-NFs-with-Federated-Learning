{
 "cells": [
  {
   "cell_type": "code",
   "execution_count": 1,
   "id": "754310bf-1ab2-4f23-b02b-87b2fbf3c91e",
   "metadata": {},
   "outputs": [],
   "source": [
    "import pandas as pd\n",
    "import numpy as np\n",
    "import seaborn as sns\n",
    "import matplotlib.pyplot as plt\n",
    "import random\n",
    "import os\n",
    "from tqdm import tqdm\n",
    "import seaborn as sns"
   ]
  },
  {
   "cell_type": "code",
   "execution_count": 2,
   "id": "f9582555-a185-4d45-8ae4-544403be2484",
   "metadata": {},
   "outputs": [],
   "source": [
    "def read_all_csv_files(directory_path, features, limit=10000):\n",
    "    # Initialize an empty list to store dataframes from CSV files\n",
    "    dataframes = []\n",
    "\n",
    "    # Get a list of all files in the directory\n",
    "    file_list = os.listdir(directory_path)\n",
    "\n",
    "    # Loop through each file and check if it's a CSV file\n",
    "    for file_name in file_list:\n",
    "        if file_name.endswith('.csv'):\n",
    "            # Get the full file path\n",
    "            file_path = os.path.join(directory_path, file_name)\n",
    "            # Read the CSV file into a pandas DataFrame\n",
    "            df = pd.read_csv(file_path)\n",
    "            # Remove leading and trailing spaces from column names\n",
    "            df.columns = df.columns.str.strip()\n",
    "            # Append the DataFrame to the list\n",
    "            dataframes.append(df[features])\n",
    "\n",
    "    # Merge all DataFrames into a single DataFrame\n",
    "    merged_df = pd.concat(dataframes, ignore_index=True)\n",
    "    print(\"Initial Row: {}\".format(merged_df.shape[0]))\n",
    "    \n",
    "    #applying limit if row_count > limit\n",
    "    if len(merged_df) > limit:\n",
    "        print(\"As Row Exceeds {0}, we are taking upto {1} rows\".format(limit, limit))\n",
    "        merged_df = merged_df.sample(limit, random_state=42)\n",
    "    \n",
    "    return merged_df\n"
   ]
  },
  {
   "cell_type": "code",
   "execution_count": null,
   "id": "84826de3-f62f-4fff-9092-1691a0738ff7",
   "metadata": {},
   "outputs": [],
   "source": []
  },
  {
   "cell_type": "code",
   "execution_count": 3,
   "id": "cc5e8d44-77b3-4964-9a67-56829131343c",
   "metadata": {},
   "outputs": [],
   "source": [
    "#Data Sources\n",
    "PATH = './dataset'\n",
    "clients = {\n",
    "    'client_1': f\"{PATH}/client_1/client_1_original_dataset.csv\",\n",
    "    'client_2': f\"{PATH}/client_2/client_2_original_dataset.csv\",\n",
    "    'client_3': f\"{PATH}/client_3/client_3_original_dataset.csv\",\n",
    "    'client_4': f\"{PATH}/client_4/client_4_original_dataset.csv\"\n",
    "}"
   ]
  },
  {
   "cell_type": "code",
   "execution_count": 4,
   "id": "d0228b12-08be-41a3-bfc2-2d89f3997f55",
   "metadata": {},
   "outputs": [
    {
     "name": "stdout",
     "output_type": "stream",
     "text": [
      "Tick Lists: ['client_1', 'client_2', 'client_3', 'client_4']\n",
      "Tick Numbers: [1, 2, 3, 4]\n"
     ]
    }
   ],
   "source": [
    "#Tick Names and Numbers\n",
    "tick_list = list(clients.keys())\n",
    "tick_numbers = list(range(1, len(tick_list)+1))\n",
    "print(\"Tick Lists: {}\".format(tick_list))\n",
    "print(\"Tick Numbers: {}\".format(tick_numbers))"
   ]
  },
  {
   "cell_type": "code",
   "execution_count": 5,
   "id": "d209d628-1f98-41fd-9768-368f566c5f7b",
   "metadata": {},
   "outputs": [
    {
     "name": "stderr",
     "output_type": "stream",
     "text": [
      " 25%|██████████████████████▊                                                                    | 1/4 [00:06<00:20,  6.84s/it]"
     ]
    },
    {
     "name": "stdout",
     "output_type": "stream",
     "text": [
      "---------------------client_1----------------------------------\n",
      "   Label   Count\n",
      "0      0  202821\n",
      "1      1  217179\n",
      "------------------------------------------------------------------\n"
     ]
    },
    {
     "name": "stderr",
     "output_type": "stream",
     "text": [
      " 50%|█████████████████████████████████████████████▌                                             | 2/4 [00:11<00:11,  5.56s/it]"
     ]
    },
    {
     "name": "stdout",
     "output_type": "stream",
     "text": [
      "---------------------client_2----------------------------------\n",
      "   Label   Count\n",
      "0      0  185943\n",
      "1      1  234057\n",
      "------------------------------------------------------------------\n"
     ]
    },
    {
     "name": "stderr",
     "output_type": "stream",
     "text": [
      " 75%|████████████████████████████████████████████████████████████████████▎                      | 3/4 [00:16<00:05,  5.12s/it]"
     ]
    },
    {
     "name": "stdout",
     "output_type": "stream",
     "text": [
      "---------------------client_3----------------------------------\n",
      "   Label   Count\n",
      "0      0  210000\n",
      "1      1  210000\n",
      "------------------------------------------------------------------\n"
     ]
    },
    {
     "name": "stderr",
     "output_type": "stream",
     "text": [
      "100%|███████████████████████████████████████████████████████████████████████████████████████████| 4/4 [00:20<00:00,  5.16s/it]"
     ]
    },
    {
     "name": "stdout",
     "output_type": "stream",
     "text": [
      "---------------------client_4----------------------------------\n",
      "   Label   Count\n",
      "0      0  210000\n",
      "1      1  210000\n",
      "------------------------------------------------------------------\n"
     ]
    },
    {
     "name": "stderr",
     "output_type": "stream",
     "text": [
      "\n"
     ]
    }
   ],
   "source": [
    "for key, element in tqdm(clients.items(), total=len(clients)):\n",
    "    dataframe = pd.read_csv(element)\n",
    "    locals()[key] = dataframe\n",
    "    print(f\"---------------------{key}----------------------------------\")\n",
    "    print(dataframe.groupby(['Label']).size().reset_index(name=\"Count\"))\n",
    "    print(\"------------------------------------------------------------------\")\n",
    "\n"
   ]
  },
  {
   "cell_type": "code",
   "execution_count": null,
   "id": "f95d056b-6c28-43c2-aafd-ab0f8873b3db",
   "metadata": {},
   "outputs": [],
   "source": []
  },
  {
   "cell_type": "code",
   "execution_count": 6,
   "id": "e72bcbc5-c11c-4daf-9714-f43777fc1384",
   "metadata": {},
   "outputs": [],
   "source": [
    "def draw_box_plot(data, tick_numbers, tick_list, title, x_label=\"\", y_label=\"\", show_outliers=False):\n",
    "    fig, ax = plt.subplots(figsize=(6,4))\n",
    "    plt.suptitle(title)\n",
    "    ax = fig.add_axes([0, 0, 1, 1])\n",
    "    bp = ax.boxplot(data, showfliers=show_outliers, patch_artist=True)\n",
    "    plt.xticks(tick_numbers, tick_list)\n",
    "    plt.xticks(rotation=90)\n",
    "    ax.set_ylabel(y_label)\n",
    "    plt.show()"
   ]
  },
  {
   "cell_type": "code",
   "execution_count": null,
   "id": "87729132-2c60-4d58-af23-c08bff5ac464",
   "metadata": {},
   "outputs": [],
   "source": [
    "##Flow Duration\n",
    "data = []\n",
    "for key, element in clients.items():\n",
    "    data.append(locals()[key]['Flow Duration']/1000000)\n",
    "\n",
    "draw_box_plot(data, tick_numbers, tick_list, 'Flow Duration', '', 'Seconds', True)\n",
    "\n",
    "#draw_box_plot(data, tick_numbers, tick_list, 'Flow Duration', '', 'Seconds', False)\n"
   ]
  },
  {
   "cell_type": "code",
   "execution_count": null,
   "id": "c5a1e14e-1ce2-482f-ae6c-58b7c67ed733",
   "metadata": {},
   "outputs": [],
   "source": [
    "##Total  Packets\n",
    "data = []\n",
    "for key, element in clients.items():\n",
    "    data.append(locals()[key]['Total Bwd packets'] + locals()[key]['Total Fwd Packet'])\n",
    "\n",
    "draw_box_plot(data, tick_numbers, tick_list, 'Total Packet Count', '', 'Count', True)\n",
    "#draw_box_plot(data, tick_numbers, tick_list, 'Total Packet Count', '', 'Count', False)    "
   ]
  },
  {
   "cell_type": "code",
   "execution_count": null,
   "id": "3e8e2112-2ba0-47f6-8a61-cff56157bd91",
   "metadata": {},
   "outputs": [],
   "source": [
    "##Total Lenght of Packets Packets\n",
    "data = []\n",
    "for key, element in clients.items():\n",
    "    data.append(locals()[key]['Packet Length Mean'])\n",
    "\n",
    "draw_box_plot(data, tick_numbers, tick_list, 'Packet Length Mean', '', 'Byte', True)\n",
    "#draw_box_plot(data, tick_numbers, tick_list, 'Packet Length Mean', '', 'Byte', False)\n"
   ]
  },
  {
   "cell_type": "code",
   "execution_count": null,
   "id": "c2d34427-2d32-4dfb-a7b7-9e9d9029e897",
   "metadata": {},
   "outputs": [],
   "source": [
    "##TFlow Bytes/s (kbps)\n",
    "data = []\n",
    "for key, element in clients.items():\n",
    "    data.append(locals()[key]['Flow Bytes/s']*8/1000000) #making it kbps from Byte/s\n",
    "\n",
    "draw_box_plot(data, tick_numbers, tick_list, 'Flow Bytes/s', '', 'Mbps', True)\n",
    "#draw_box_plot(data, tick_numbers, tick_list, 'Flow Bytes/s', '', 'Kbps', False)\n"
   ]
  },
  {
   "cell_type": "code",
   "execution_count": null,
   "id": "71493dd7-7688-4cc5-8ca0-162732f1989f",
   "metadata": {},
   "outputs": [],
   "source": [
    "##TFlow Bytes/s (kbps)\n",
    "data = []\n",
    "for key, element in clients.items():\n",
    "    data.append(locals()[key]['Flow Packets/s']*8/1000) #making it kbps from Byte/s\n",
    "\n",
    "draw_box_plot(data, tick_numbers, tick_list, 'Flow Packets/s', '', 'Packets/s', True)\n",
    "draw_box_plot(data, tick_numbers, tick_list, 'Flow Packets/s', '', 'Packets/s', False)"
   ]
  },
  {
   "cell_type": "markdown",
   "id": "2bf41b94-6d0a-478c-a5e4-eb1fb8c58273",
   "metadata": {},
   "source": [
    "## Fwd PSH flags: Number of times the PSH flag was set in packets travelling in the forward direction (0 for UDP)"
   ]
  },
  {
   "cell_type": "code",
   "execution_count": null,
   "id": "c6ca726b-07d3-4909-ada7-03b3fd323f5a",
   "metadata": {},
   "outputs": [],
   "source": [
    "\n",
    "data = []\n",
    "for key, element in clients.items():\n",
    "    data.append(locals()[key]['Fwd PSH Flags']) #making it kbps from Byte/s\n",
    "\n",
    "draw_box_plot(data, tick_numbers, tick_list, 'Fwd PSH Flags', '', 'Count', True)\n",
    "draw_box_plot(data, tick_numbers, tick_list, 'Fwd PSH Flags', '', 'Count', False)"
   ]
  },
  {
   "cell_type": "markdown",
   "id": "609597cb-8104-4f13-9385-84536aa64cc6",
   "metadata": {},
   "source": [
    "## Fwd Act Data Pkts: Count of packets with at least 1 byte of TCP data payload in the forward direction"
   ]
  },
  {
   "cell_type": "code",
   "execution_count": null,
   "id": "65e95db8-5d86-497c-a3cb-249af578360e",
   "metadata": {},
   "outputs": [],
   "source": [
    "data = []\n",
    "for key, element in clients.items():\n",
    "    data.append(locals()[key]['Fwd Act Data Pkts']) #making it kbps from Byte/s\n",
    "\n",
    "draw_box_plot(data, tick_numbers, tick_list, 'Fwd Act Data Pkts', '', 'Count', True)\n",
    "draw_box_plot(data, tick_numbers, tick_list, 'Fwd Act Data Pkts', '', 'Count', False)"
   ]
  },
  {
   "cell_type": "markdown",
   "id": "3b7905c0-f5f6-448e-b373-c4e60a3df9b4",
   "metadata": {},
   "source": [
    "## Manual Feature Analysis"
   ]
  },
  {
   "cell_type": "code",
   "execution_count": 7,
   "id": "16465cf3-bbcb-49cd-a720-b67b9a41facd",
   "metadata": {},
   "outputs": [],
   "source": [
    "features = ['Protocol', 'Flow Duration', 'Total Fwd Packet', 'Total Bwd packets', 'Total Length of Fwd Packet', 'Total Length of Bwd Packet', 'Fwd Packet Length Max', 'Fwd Packet Length Min', 'Fwd Packet Length Std', 'Bwd Packet Length Max', 'Bwd Packet Length Min', 'Bwd Packet Length Std', 'Flow IAT Mean', 'Flow IAT Std', 'Flow IAT Max', 'Flow IAT Min', 'Fwd IAT Total', 'Fwd IAT Std', 'Fwd IAT Max', 'Fwd IAT Min', 'Bwd IAT Total', 'Bwd IAT Std', 'Bwd IAT Max', 'Bwd IAT Min', 'Fwd PSH Flags', 'Bwd PSH Flags', 'Fwd URG Flags', 'Bwd URG Flags', 'Fwd RST Flags', 'Bwd RST Flags', 'Fwd Header Length', 'Bwd Header Length', 'Packet Length Min', 'Packet Length Max', 'Packet Length Std', 'Packet Length Variance', 'FIN Flag Count', 'SYN Flag Count', 'RST Flag Count', 'PSH Flag Count', 'ACK Flag Count', 'URG Flag Count', 'CWR Flag Count', 'ECE Flag Count', 'FWD Init Win Bytes', 'Bwd Init Win Bytes', 'Fwd Act Data Pkts', 'Fwd Seg Size Min', 'Active Mean', 'Active Std', 'Active Max', 'Active Min', 'Idle Mean', 'Idle Std', 'Idle Max', 'Idle Min', 'ICMP Code', 'ICMP Type', 'Fwd TCP Retrans. Count', 'Bwd TCP Retrans. Count', 'Total TCP Flow Time']\n"
   ]
  },
  {
   "cell_type": "code",
   "execution_count": 20,
   "id": "b0163fc7-84cb-4316-8431-e8dd61cc53f8",
   "metadata": {},
   "outputs": [],
   "source": [
    "client_3_dataset = locals()['client_3'].copy()"
   ]
  },
  {
   "cell_type": "code",
   "execution_count": 21,
   "id": "723a176e-8a4b-451d-9695-6826d7666274",
   "metadata": {},
   "outputs": [],
   "source": [
    "client_3_dataset = client_3_dataset[features]"
   ]
  },
  {
   "cell_type": "code",
   "execution_count": 10,
   "id": "19dca8fa-db40-4a5e-b4ef-838515cc497f",
   "metadata": {},
   "outputs": [],
   "source": [
    "def measure_correlation(df, co_efficent=0.2):\n",
    "    # Calculate correlation matrix for numeric features\n",
    "    correlation_matrix = df.corr()    \n",
    "    # Find features with low correlation with other features\n",
    "    # We use 0.2 as the threshold for weak correlation (you can adjust it as needed)\n",
    "\n",
    "    # We use 0.2 as the threshold for weak correlation (you can adjust it as needed)\n",
    "    independent_features = correlation_matrix[correlation_matrix.abs() < co_efficent].count().sort_values(ascending=False)\n",
    "    \n",
    "    # Create a DataFrame with the feature names and their respective counts of low-correlation (independent) scores\n",
    "    independent_features_df = pd.DataFrame({\n",
    "        'Feature': independent_features.index,\n",
    "        'Score': independent_features.values\n",
    "    })\n",
    "     \n",
    "\n",
    "    # Draw a heatmap for the correlation matrix\n",
    "    plt.figure(figsize=(12, 10))\n",
    "    sns.heatmap(correlation_matrix, annot=False, cmap=\"coolwarm\", cbar=True)\n",
    "    \n",
    "    # Display the heatmap\n",
    "    plt.title('Correlation Matrix of Features')\n",
    "    plt.show()\n",
    "    return independent_features_df"
   ]
  },
  {
   "cell_type": "code",
   "execution_count": null,
   "id": "dc9321a4-5164-4833-aab2-903ae1cf5080",
   "metadata": {},
   "outputs": [],
   "source": [
    "##IAT Features\n",
    "test_features = ['Flow Duration' ,'Total Fwd Packet' ,'Total Bwd packets' ,'Total Length of Fwd Packet' ,'Total Length of Bwd Packet' ,'Fwd Packet Length Max' ,'Fwd Packet Length Min' ,'Fwd Packet Length Std' ,'Bwd Packet Length Max' ,'Bwd Packet Length Min' ,'Bwd Packet Length Std' ,'Flow IAT Mean' ,'Flow IAT Std' ,'Flow IAT Max' ,'Flow IAT Min' ,'Fwd IAT Total' ,'Fwd IAT Std' ,'Fwd IAT Max' ,'Fwd IAT Min' ,'Bwd IAT Total' ,'Bwd IAT Std' ,'Bwd IAT Max' ,'Bwd IAT Min' ,'Fwd Header Length' ,'Bwd Header Length' ,'Packet Length Min' ,'Packet Length Max' ,'Packet Length Std' ,'Packet Length Variance' ,'FWD Init Win Bytes' ,'Bwd Init Win Bytes' ,'Fwd Act Data Pkts' ,'Fwd Seg Size Min' ,'Active Mean' ,'Active Std' ,'Active Max' ,'Active Min' ,'Idle Mean' ,'Idle Std' ,'Idle Max' ,'Idle Min']\n",
    "independent_features = measure_correlation(client_3_dataset[test_features], 0.01)"
   ]
  },
  {
   "cell_type": "code",
   "execution_count": 23,
   "id": "46462fc7-d9f0-482f-aecf-f8b5bd8a1581",
   "metadata": {},
   "outputs": [
    {
     "data": {
      "text/html": [
       "<div>\n",
       "<style scoped>\n",
       "    .dataframe tbody tr th:only-of-type {\n",
       "        vertical-align: middle;\n",
       "    }\n",
       "\n",
       "    .dataframe tbody tr th {\n",
       "        vertical-align: top;\n",
       "    }\n",
       "\n",
       "    .dataframe thead th {\n",
       "        text-align: right;\n",
       "    }\n",
       "</style>\n",
       "<table border=\"1\" class=\"dataframe\">\n",
       "  <thead>\n",
       "    <tr style=\"text-align: right;\">\n",
       "      <th></th>\n",
       "      <th>Feature</th>\n",
       "      <th>Score</th>\n",
       "    </tr>\n",
       "  </thead>\n",
       "  <tbody>\n",
       "    <tr>\n",
       "      <th>0</th>\n",
       "      <td>Total Length of Fwd Packet</td>\n",
       "      <td>30</td>\n",
       "    </tr>\n",
       "    <tr>\n",
       "      <th>1</th>\n",
       "      <td>Total Length of Bwd Packet</td>\n",
       "      <td>19</td>\n",
       "    </tr>\n",
       "    <tr>\n",
       "      <th>2</th>\n",
       "      <td>Bwd Header Length</td>\n",
       "      <td>18</td>\n",
       "    </tr>\n",
       "    <tr>\n",
       "      <th>3</th>\n",
       "      <td>Fwd Header Length</td>\n",
       "      <td>18</td>\n",
       "    </tr>\n",
       "    <tr>\n",
       "      <th>4</th>\n",
       "      <td>Total Fwd Packet</td>\n",
       "      <td>17</td>\n",
       "    </tr>\n",
       "    <tr>\n",
       "      <th>5</th>\n",
       "      <td>Fwd Act Data Pkts</td>\n",
       "      <td>17</td>\n",
       "    </tr>\n",
       "    <tr>\n",
       "      <th>6</th>\n",
       "      <td>Total Bwd packets</td>\n",
       "      <td>16</td>\n",
       "    </tr>\n",
       "    <tr>\n",
       "      <th>7</th>\n",
       "      <td>Flow IAT Std</td>\n",
       "      <td>16</td>\n",
       "    </tr>\n",
       "    <tr>\n",
       "      <th>8</th>\n",
       "      <td>Active Min</td>\n",
       "      <td>13</td>\n",
       "    </tr>\n",
       "    <tr>\n",
       "      <th>9</th>\n",
       "      <td>Idle Min</td>\n",
       "      <td>12</td>\n",
       "    </tr>\n",
       "    <tr>\n",
       "      <th>10</th>\n",
       "      <td>Idle Std</td>\n",
       "      <td>11</td>\n",
       "    </tr>\n",
       "    <tr>\n",
       "      <th>11</th>\n",
       "      <td>Idle Mean</td>\n",
       "      <td>11</td>\n",
       "    </tr>\n",
       "    <tr>\n",
       "      <th>12</th>\n",
       "      <td>Fwd IAT Std</td>\n",
       "      <td>10</td>\n",
       "    </tr>\n",
       "    <tr>\n",
       "      <th>13</th>\n",
       "      <td>Active Mean</td>\n",
       "      <td>10</td>\n",
       "    </tr>\n",
       "    <tr>\n",
       "      <th>14</th>\n",
       "      <td>Flow IAT Max</td>\n",
       "      <td>10</td>\n",
       "    </tr>\n",
       "    <tr>\n",
       "      <th>15</th>\n",
       "      <td>Idle Max</td>\n",
       "      <td>10</td>\n",
       "    </tr>\n",
       "    <tr>\n",
       "      <th>16</th>\n",
       "      <td>Fwd IAT Max</td>\n",
       "      <td>10</td>\n",
       "    </tr>\n",
       "    <tr>\n",
       "      <th>17</th>\n",
       "      <td>Bwd IAT Min</td>\n",
       "      <td>9</td>\n",
       "    </tr>\n",
       "    <tr>\n",
       "      <th>18</th>\n",
       "      <td>Fwd Seg Size Min</td>\n",
       "      <td>8</td>\n",
       "    </tr>\n",
       "    <tr>\n",
       "      <th>19</th>\n",
       "      <td>Bwd IAT Max</td>\n",
       "      <td>8</td>\n",
       "    </tr>\n",
       "    <tr>\n",
       "      <th>20</th>\n",
       "      <td>Bwd IAT Std</td>\n",
       "      <td>8</td>\n",
       "    </tr>\n",
       "    <tr>\n",
       "      <th>21</th>\n",
       "      <td>Bwd Packet Length Std</td>\n",
       "      <td>8</td>\n",
       "    </tr>\n",
       "    <tr>\n",
       "      <th>22</th>\n",
       "      <td>Flow IAT Mean</td>\n",
       "      <td>7</td>\n",
       "    </tr>\n",
       "    <tr>\n",
       "      <th>23</th>\n",
       "      <td>Flow IAT Min</td>\n",
       "      <td>7</td>\n",
       "    </tr>\n",
       "    <tr>\n",
       "      <th>24</th>\n",
       "      <td>Fwd Packet Length Std</td>\n",
       "      <td>6</td>\n",
       "    </tr>\n",
       "    <tr>\n",
       "      <th>25</th>\n",
       "      <td>Active Max</td>\n",
       "      <td>6</td>\n",
       "    </tr>\n",
       "    <tr>\n",
       "      <th>26</th>\n",
       "      <td>Bwd Init Win Bytes</td>\n",
       "      <td>6</td>\n",
       "    </tr>\n",
       "    <tr>\n",
       "      <th>27</th>\n",
       "      <td>Fwd IAT Min</td>\n",
       "      <td>6</td>\n",
       "    </tr>\n",
       "    <tr>\n",
       "      <th>28</th>\n",
       "      <td>Bwd Packet Length Max</td>\n",
       "      <td>4</td>\n",
       "    </tr>\n",
       "    <tr>\n",
       "      <th>29</th>\n",
       "      <td>Bwd Packet Length Min</td>\n",
       "      <td>4</td>\n",
       "    </tr>\n",
       "    <tr>\n",
       "      <th>30</th>\n",
       "      <td>Active Std</td>\n",
       "      <td>3</td>\n",
       "    </tr>\n",
       "    <tr>\n",
       "      <th>31</th>\n",
       "      <td>FWD Init Win Bytes</td>\n",
       "      <td>3</td>\n",
       "    </tr>\n",
       "    <tr>\n",
       "      <th>32</th>\n",
       "      <td>Bwd IAT Total</td>\n",
       "      <td>2</td>\n",
       "    </tr>\n",
       "    <tr>\n",
       "      <th>33</th>\n",
       "      <td>Packet Length Variance</td>\n",
       "      <td>2</td>\n",
       "    </tr>\n",
       "    <tr>\n",
       "      <th>34</th>\n",
       "      <td>Packet Length Max</td>\n",
       "      <td>2</td>\n",
       "    </tr>\n",
       "    <tr>\n",
       "      <th>35</th>\n",
       "      <td>Fwd IAT Total</td>\n",
       "      <td>2</td>\n",
       "    </tr>\n",
       "    <tr>\n",
       "      <th>36</th>\n",
       "      <td>Flow Duration</td>\n",
       "      <td>2</td>\n",
       "    </tr>\n",
       "    <tr>\n",
       "      <th>37</th>\n",
       "      <td>Packet Length Std</td>\n",
       "      <td>1</td>\n",
       "    </tr>\n",
       "    <tr>\n",
       "      <th>38</th>\n",
       "      <td>Packet Length Min</td>\n",
       "      <td>1</td>\n",
       "    </tr>\n",
       "    <tr>\n",
       "      <th>39</th>\n",
       "      <td>Fwd Packet Length Min</td>\n",
       "      <td>1</td>\n",
       "    </tr>\n",
       "    <tr>\n",
       "      <th>40</th>\n",
       "      <td>Fwd Packet Length Max</td>\n",
       "      <td>0</td>\n",
       "    </tr>\n",
       "  </tbody>\n",
       "</table>\n",
       "</div>"
      ],
      "text/plain": [
       "                       Feature  Score\n",
       "0   Total Length of Fwd Packet     30\n",
       "1   Total Length of Bwd Packet     19\n",
       "2            Bwd Header Length     18\n",
       "3            Fwd Header Length     18\n",
       "4             Total Fwd Packet     17\n",
       "5            Fwd Act Data Pkts     17\n",
       "6            Total Bwd packets     16\n",
       "7                 Flow IAT Std     16\n",
       "8                   Active Min     13\n",
       "9                     Idle Min     12\n",
       "10                    Idle Std     11\n",
       "11                   Idle Mean     11\n",
       "12                 Fwd IAT Std     10\n",
       "13                 Active Mean     10\n",
       "14                Flow IAT Max     10\n",
       "15                    Idle Max     10\n",
       "16                 Fwd IAT Max     10\n",
       "17                 Bwd IAT Min      9\n",
       "18            Fwd Seg Size Min      8\n",
       "19                 Bwd IAT Max      8\n",
       "20                 Bwd IAT Std      8\n",
       "21       Bwd Packet Length Std      8\n",
       "22               Flow IAT Mean      7\n",
       "23                Flow IAT Min      7\n",
       "24       Fwd Packet Length Std      6\n",
       "25                  Active Max      6\n",
       "26          Bwd Init Win Bytes      6\n",
       "27                 Fwd IAT Min      6\n",
       "28       Bwd Packet Length Max      4\n",
       "29       Bwd Packet Length Min      4\n",
       "30                  Active Std      3\n",
       "31          FWD Init Win Bytes      3\n",
       "32               Bwd IAT Total      2\n",
       "33      Packet Length Variance      2\n",
       "34           Packet Length Max      2\n",
       "35               Fwd IAT Total      2\n",
       "36               Flow Duration      2\n",
       "37           Packet Length Std      1\n",
       "38           Packet Length Min      1\n",
       "39       Fwd Packet Length Min      1\n",
       "40       Fwd Packet Length Max      0"
      ]
     },
     "execution_count": 23,
     "metadata": {},
     "output_type": "execute_result"
    }
   ],
   "source": [
    "independent_features"
   ]
  },
  {
   "cell_type": "code",
   "execution_count": null,
   "id": "3d6067fb-122b-43ed-971e-6863051a260e",
   "metadata": {},
   "outputs": [],
   "source": [
    "# Assuming 'clients' is a dictionary of client dataframes\n",
    "all_independent_features = pd.DataFrame()\n",
    "\n",
    "for key, element in clients.items():\n",
    "    print(key)\n",
    "    independent_features_df =  measure_correlation(locals()[key][test_features], 0.01)\n",
    "     # Rename 'Score' column to 'Score_X' where X is the current iteration number\n",
    "    independent_features_df.rename(columns={'Score': f'Score_{key}'}, inplace=True)\n",
    "\n",
    "    # Merge the results to keep the 'Feature' column as the common key\n",
    "    if all_independent_features.empty:\n",
    "        all_independent_features = independent_features_df\n",
    "    else:\n",
    "        all_independent_features = pd.merge(all_independent_features, independent_features_df, on='Feature', how='outer')\n",
    "\n",
    "    \n",
    "# Display the final combined DataFrame\n",
    "#print(all_independent_features)  "
   ]
  },
  {
   "cell_type": "code",
   "execution_count": 25,
   "id": "a0617702-bfcf-40b3-b0e2-17a761f92714",
   "metadata": {},
   "outputs": [],
   "source": [
    "all_independent_features.to_csv(\"Feature_Correlation_Scores.csv\", index=False)"
   ]
  },
  {
   "cell_type": "code",
   "execution_count": null,
   "id": "2bb65134-0809-4e14-a544-7e86571657c2",
   "metadata": {},
   "outputs": [],
   "source": []
  }
 ],
 "metadata": {
  "kernelspec": {
   "display_name": "Python 3 (ipykernel)",
   "language": "python",
   "name": "python3"
  },
  "language_info": {
   "codemirror_mode": {
    "name": "ipython",
    "version": 3
   },
   "file_extension": ".py",
   "mimetype": "text/x-python",
   "name": "python",
   "nbconvert_exporter": "python",
   "pygments_lexer": "ipython3",
   "version": "3.11.6"
  }
 },
 "nbformat": 4,
 "nbformat_minor": 5
}
