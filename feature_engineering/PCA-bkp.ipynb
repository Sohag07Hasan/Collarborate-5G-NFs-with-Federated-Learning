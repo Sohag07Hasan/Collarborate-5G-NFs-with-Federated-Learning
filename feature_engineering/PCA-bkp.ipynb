{
 "cells": [
  {
   "cell_type": "code",
   "execution_count": 1,
   "id": "e85b37e2-ff94-4aa2-90bf-83780c2c6b7f",
   "metadata": {},
   "outputs": [],
   "source": [
    "#We will Sanitize the data and Save at Sanitized Folder\n"
   ]
  },
  {
   "cell_type": "code",
   "execution_count": 50,
   "id": "2da85a07-0011-41c3-b418-4dddd3c2215f",
   "metadata": {},
   "outputs": [],
   "source": [
    "import pandas as pd\n",
    "from sklearn.preprocessing import StandardScaler, LabelEncoder\n",
    "from sklearn.decomposition import PCA\n",
    "import numpy as np \n",
    "import matplotlib.pyplot as plt\n",
    "import seaborn as sns\n",
    "\n",
    "sns.set(font_scale=1)"
   ]
  },
  {
   "cell_type": "markdown",
   "id": "ce5888f3-ad87-4dea-8b33-28e16f459429",
   "metadata": {},
   "source": [
    "All Feature Lists:\n",
    "\n",
    "['Protocol', 'Flow Duration', 'Total Fwd Packet', 'Total Bwd packets', 'Total Length of Fwd Packet', 'Total Length of Bwd Packet', 'Fwd Packet Length Max', 'Fwd Packet Length Min', 'Fwd Packet Length Mean', 'Fwd Packet Length Std', 'Bwd Packet Length Max', 'Bwd Packet Length Min', 'Bwd Packet Length Mean', 'Bwd Packet Length Std', 'Flow Bytes/s', 'Flow Packets/s', 'Flow IAT Mean', 'Flow IAT Std', 'Flow IAT Max', 'Flow IAT Min', 'Fwd IAT Total', 'Fwd IAT Mean', 'Fwd IAT Std', 'Fwd IAT Max', 'Fwd IAT Min', 'Bwd IAT Total', 'Bwd IAT Mean', 'Bwd IAT Std', 'Bwd IAT Max', 'Bwd IAT Min', 'Fwd PSH Flags', 'Bwd PSH Flags', 'Fwd URG Flags', 'Bwd URG Flags', 'Fwd RST Flags', 'Bwd RST Flags', 'Fwd Header Length', 'Bwd Header Length', 'Fwd Packets/s', 'Bwd Packets/s', 'Packet Length Min', 'Packet Length Max', 'Packet Length Mean', 'Packet Length Std', 'Packet Length Variance', 'FIN Flag Count', 'SYN Flag Count', 'RST Flag Count', 'PSH Flag Count', 'ACK Flag Count', 'URG Flag Count', 'CWR Flag Count', 'ECE Flag Count', 'Down/Up Ratio', 'Average Packet Size', 'Fwd Segment Size Avg', 'Bwd Segment Size Avg', 'Fwd Bytes/Bulk Avg', 'Fwd Packet/Bulk Avg', 'Fwd Bulk Rate Avg', 'Bwd Bytes/Bulk Avg', 'Bwd Packet/Bulk Avg', 'Bwd Bulk Rate Avg', 'Subflow Fwd Packets', 'Subflow Fwd Bytes', 'Subflow Bwd Packets', 'Subflow Bwd Bytes', 'FWD Init Win Bytes', 'Bwd Init Win Bytes', 'Fwd Act Data Pkts', 'Fwd Seg Size Min', 'Active Mean', 'Active Std', 'Active Max', 'Active Min', 'Idle Mean', 'Idle Std', 'Idle Max', 'Idle Min', 'ICMP Code', 'ICMP Type', 'Fwd TCP Retrans. Count', 'Bwd TCP Retrans. Count', 'Total TCP Retrans. Count', 'Total TCP Flow Time']"
   ]
  },
  {
   "cell_type": "code",
   "execution_count": 7,
   "id": "010cfb80-c8b8-423b-b1c5-30b0b4d0cfa9",
   "metadata": {},
   "outputs": [],
   "source": [
    "#Data Sources\n",
    "PATH = './dataset'\n",
    "clients = {\n",
    "    'client_1': f\"{PATH}/client_1_dataset.csv\",\n",
    "    'client_2': f\"{PATH}/client_2_dataset.csv\",\n",
    "    'client_3': f\"{PATH}/client_3_dataset.csv\",\n",
    "    'client_4': f\"{PATH}/client_4_dataset.csv\"\n",
    "}"
   ]
  },
  {
   "cell_type": "code",
   "execution_count": 146,
   "id": "907f9f91-b783-4b81-bef0-f16bdb4f5ae2",
   "metadata": {},
   "outputs": [],
   "source": [
    "current_client_key = 'client_4'\n",
    "current_client = clients[current_client_key]"
   ]
  },
  {
   "cell_type": "code",
   "execution_count": 147,
   "id": "2cc98107-028f-4a1d-b541-d84d6c55f5f7",
   "metadata": {},
   "outputs": [],
   "source": [
    "train_df = pd.read_csv(current_client)"
   ]
  },
  {
   "cell_type": "code",
   "execution_count": 148,
   "id": "d93c85a5-88c9-4529-8437-ca71c4ba7a1d",
   "metadata": {},
   "outputs": [
    {
     "name": "stdout",
     "output_type": "stream",
     "text": [
      "Total:  420000\n",
      "Label\n",
      "0    210000\n",
      "1    210000\n",
      "Name: count, dtype: int64\n"
     ]
    }
   ],
   "source": [
    "#Total Record\n",
    "print(\"Total: \",len(train_df['Flow Duration']))\n",
    "#Recoreds per Lavel\n",
    "Label_counts = train_df['Label'].value_counts()\n",
    "print (Label_counts)"
   ]
  },
  {
   "cell_type": "code",
   "execution_count": 149,
   "id": "7d28a4ad-972d-4c14-9985-448d583e6658",
   "metadata": {},
   "outputs": [],
   "source": [
    "#Dependent and Independed Feature Separation\n",
    "\n",
    "features = train_df.columns.values.tolist()\n",
    "feature_to_exclude = ['Flow ID', 'Src IP', 'Src Port', 'Dst IP', 'Dst Port', 'Timestamp', 'Label', 'CSV_File_Number']\n",
    "output_features = ['Label']\n",
    "input_features = [feature for feature in features if feature not in feature_to_exclude]"
   ]
  },
  {
   "cell_type": "code",
   "execution_count": 150,
   "id": "f8af867d-a9f1-47d5-b1d5-32a0c12c8b5f",
   "metadata": {},
   "outputs": [],
   "source": [
    "output_df = train_df[output_features]\n",
    "input_df = train_df[input_features]"
   ]
  },
  {
   "cell_type": "code",
   "execution_count": 151,
   "id": "63e124a3-664a-4782-b078-6a5fbb932196",
   "metadata": {},
   "outputs": [],
   "source": [
    "scaler = StandardScaler()\n",
    "scaled_data = scaler.fit_transform(input_df)\n",
    "scaled_df = pd.DataFrame(scaled_data, columns = input_df.columns)"
   ]
  },
  {
   "cell_type": "code",
   "execution_count": 152,
   "id": "12e809b3-8ab6-402e-8460-a281c12b67d7",
   "metadata": {},
   "outputs": [
    {
     "data": {
      "text/html": [
       "<div>\n",
       "<style scoped>\n",
       "    .dataframe tbody tr th:only-of-type {\n",
       "        vertical-align: middle;\n",
       "    }\n",
       "\n",
       "    .dataframe tbody tr th {\n",
       "        vertical-align: top;\n",
       "    }\n",
       "\n",
       "    .dataframe thead th {\n",
       "        text-align: right;\n",
       "    }\n",
       "</style>\n",
       "<table border=\"1\" class=\"dataframe\">\n",
       "  <thead>\n",
       "    <tr style=\"text-align: right;\">\n",
       "      <th></th>\n",
       "      <th>Flow Duration</th>\n",
       "      <th>Protocol</th>\n",
       "    </tr>\n",
       "  </thead>\n",
       "  <tbody>\n",
       "    <tr>\n",
       "      <th>count</th>\n",
       "      <td>420000.00</td>\n",
       "      <td>420000.00</td>\n",
       "    </tr>\n",
       "    <tr>\n",
       "      <th>mean</th>\n",
       "      <td>-0.00</td>\n",
       "      <td>-0.00</td>\n",
       "    </tr>\n",
       "    <tr>\n",
       "      <th>std</th>\n",
       "      <td>1.00</td>\n",
       "      <td>1.00</td>\n",
       "    </tr>\n",
       "    <tr>\n",
       "      <th>min</th>\n",
       "      <td>-0.18</td>\n",
       "      <td>-1.98</td>\n",
       "    </tr>\n",
       "    <tr>\n",
       "      <th>25%</th>\n",
       "      <td>-0.18</td>\n",
       "      <td>-0.29</td>\n",
       "    </tr>\n",
       "    <tr>\n",
       "      <th>50%</th>\n",
       "      <td>-0.13</td>\n",
       "      <td>-0.29</td>\n",
       "    </tr>\n",
       "    <tr>\n",
       "      <th>75%</th>\n",
       "      <td>0.02</td>\n",
       "      <td>-0.29</td>\n",
       "    </tr>\n",
       "    <tr>\n",
       "      <th>max</th>\n",
       "      <td>27.73</td>\n",
       "      <td>3.44</td>\n",
       "    </tr>\n",
       "  </tbody>\n",
       "</table>\n",
       "</div>"
      ],
      "text/plain": [
       "       Flow Duration   Protocol\n",
       "count      420000.00  420000.00\n",
       "mean           -0.00      -0.00\n",
       "std             1.00       1.00\n",
       "min            -0.18      -1.98\n",
       "25%            -0.18      -0.29\n",
       "50%            -0.13      -0.29\n",
       "75%             0.02      -0.29\n",
       "max            27.73       3.44"
      ]
     },
     "execution_count": 152,
     "metadata": {},
     "output_type": "execute_result"
    }
   ],
   "source": [
    "scaled_df[['Flow Duration', 'Protocol']].describe().round(2)"
   ]
  },
  {
   "cell_type": "code",
   "execution_count": 153,
   "id": "c58e81a4-51cd-4d13-8279-026b17272e42",
   "metadata": {},
   "outputs": [],
   "source": [
    "pca_component_count = len(scaled_df.columns)\n",
    "pca = PCA(n_components = pca_component_count)\n",
    "data_pca = pca.fit_transform(scaled_data)"
   ]
  },
  {
   "cell_type": "code",
   "execution_count": 154,
   "id": "f3bf8e68-33bd-4780-a0a4-4ea25cfb5a72",
   "metadata": {},
   "outputs": [
    {
     "data": {
      "text/plain": [
       "Text(0, 0.5, 'cumulative explained variance')"
      ]
     },
     "execution_count": 154,
     "metadata": {},
     "output_type": "execute_result"
    },
    {
     "data": {
      "image/png": "[encoded data removed]",
      "text/plain": [
       "<Figure size 640x480 with 1 Axes>"
      ]
     },
     "metadata": {},
     "output_type": "display_data"
    }
   ],
   "source": [
    "plt.plot(np.cumsum(pca.explained_variance_ratio_))\n",
    "plt.xlabel('number of components')\n",
    "plt.ylabel('cumulative explained variance')"
   ]
  },
  {
   "cell_type": "code",
   "execution_count": 155,
   "id": "7a7371dc-7db7-47d0-9312-7d5442e4c48e",
   "metadata": {},
   "outputs": [
    {
     "data": {
      "text/plain": [
       "array([1.50340217e+01, 1.17464545e+01, 8.33080349e+00, 6.21160908e+00,\n",
       "       4.97967404e+00, 3.91047627e+00, 3.82262443e+00, 3.49389080e+00,\n",
       "       3.04408774e+00, 2.51376950e+00, 2.10842175e+00, 1.87154172e+00,\n",
       "       1.83949387e+00, 1.64541961e+00, 1.49977103e+00, 1.39572670e+00,\n",
       "       1.05546083e+00, 1.00130110e+00, 9.70519196e-01, 8.93605552e-01,\n",
       "       8.14709215e-01, 7.15929362e-01, 6.45622350e-01, 5.74304011e-01,\n",
       "       5.42495120e-01, 5.11276633e-01, 4.97448661e-01, 4.37990078e-01,\n",
       "       3.49408606e-01, 2.79999177e-01, 2.49732494e-01, 1.73586195e-01,\n",
       "       1.34364167e-01, 1.12879997e-01, 9.46187471e-02, 7.22495710e-02,\n",
       "       6.07484137e-02, 5.06381704e-02, 4.27639222e-02, 3.99042741e-02,\n",
       "       3.38640451e-02, 2.82030279e-02, 2.65256267e-02, 2.33403560e-02,\n",
       "       2.02254741e-02, 1.65831048e-02, 1.33802423e-02, 1.07398062e-02,\n",
       "       9.88277852e-03, 7.90604386e-03, 5.82555820e-03, 5.22269794e-03,\n",
       "       4.27253438e-03, 4.05351020e-03, 3.51189723e-03, 3.14374624e-03,\n",
       "       2.67876941e-03, 2.40160126e-03, 2.13367015e-03, 1.70479532e-03,\n",
       "       1.66516158e-03, 1.22501935e-03, 6.36543457e-04, 5.89470989e-04,\n",
       "       2.95102602e-04, 2.64259727e-04, 2.24908965e-04, 1.16584789e-04,\n",
       "       1.01884821e-04, 5.53704376e-05, 4.22327548e-05, 1.95877481e-05,\n",
       "       1.64825745e-05, 3.97746347e-06, 2.08975601e-06, 2.57991922e-08,\n",
       "       4.27069652e-09, 1.24268499e-15, 9.68632093e-16, 7.88765914e-17,\n",
       "       0.00000000e+00, 0.00000000e+00, 0.00000000e+00, 0.00000000e+00,\n",
       "       0.00000000e+00])"
      ]
     },
     "execution_count": 155,
     "metadata": {},
     "output_type": "execute_result"
    }
   ],
   "source": [
    "pca.explained_variance_ #Actual Variances unit is feature unit**2"
   ]
  },
  {
   "cell_type": "code",
   "execution_count": 156,
   "id": "0ee7d480-19b1-45e3-b7bc-28230ea2b5f7",
   "metadata": {},
   "outputs": [
    {
     "data": {
      "text/plain": [
       "array([1.78976023e-01, 1.39838411e-01, 9.91759959e-02, 7.39475511e-02,\n",
       "       5.92816926e-02, 4.65531781e-02, 4.55073253e-02, 4.15938391e-02,\n",
       "       3.62390535e-02, 2.99257561e-02, 2.51001991e-02, 2.22802055e-02,\n",
       "       2.18986844e-02, 1.95882820e-02, 1.78543745e-02, 1.66157544e-02,\n",
       "       1.25649800e-02, 1.19202228e-02, 1.15537724e-02, 1.06381360e-02,\n",
       "       9.69889613e-03, 8.52294830e-03, 7.68596206e-03, 6.83693624e-03,\n",
       "       6.45825986e-03, 6.08661210e-03, 5.92199377e-03, 5.21415518e-03,\n",
       "       4.15961635e-03, 3.33331560e-03, 2.97299880e-03, 2.06649740e-03,\n",
       "       1.59956961e-03, 1.34380629e-03, 1.12641097e-03, 8.60111892e-04,\n",
       "       7.23193679e-04, 6.02833926e-04, 5.09093100e-04, 4.75049752e-04,\n",
       "       4.03142435e-04, 3.35749533e-04, 3.15780518e-04, 2.77860719e-04,\n",
       "       2.40778880e-04, 1.97417444e-04, 1.59288219e-04, 1.27854531e-04,\n",
       "       1.17651845e-04, 9.41193457e-05, 6.93517182e-05, 6.21748275e-05,\n",
       "       5.08633835e-05, 4.82559589e-05, 4.18082008e-05, 3.74254614e-05,\n",
       "       3.18900361e-05, 2.85904231e-05, 2.54007746e-05, 2.02951341e-05,\n",
       "       1.98233050e-05, 1.45835290e-05, 7.57788025e-06, 7.01749507e-06,\n",
       "       3.51311785e-06, 3.14594164e-06, 2.67748130e-06, 1.38791085e-06,\n",
       "       1.21291165e-06, 6.59170306e-07, 5.02769693e-07, 2.33186922e-07,\n",
       "       1.96220658e-07, 4.73506428e-08, 2.48779885e-08, 3.07132509e-10,\n",
       "       5.08415042e-11, 1.47938337e-17, 1.15313070e-17, 9.39004805e-19,\n",
       "       0.00000000e+00, 0.00000000e+00, 0.00000000e+00, 0.00000000e+00,\n",
       "       0.00000000e+00])"
      ]
     },
     "execution_count": 156,
     "metadata": {},
     "output_type": "execute_result"
    }
   ],
   "source": [
    "## It is ratio of pca.explained_variance_/sum(pca.explained_variance_) so it represents a ratio/percentage of total variances\n",
    "pca.explained_variance_ratio_"
   ]
  },
  {
   "cell_type": "code",
   "execution_count": 157,
   "id": "0455a935-d9a3-4bf2-a90a-912205cbd1f7",
   "metadata": {},
   "outputs": [],
   "source": [
    "loadings = pca.components_  # Shape: (n_pca, n_features) each pca is a linkear combination of features\n",
    "explained_variance = pca.explained_variance_  # Shape: (85,) # Actual variances for pca componenets\n",
    "#Optionally, take the square root of the explained variance\n",
    "sqrt_explained_variance = np.sqrt(explained_variance)  # Optional: sqrt of variance"
   ]
  },
  {
   "cell_type": "code",
   "execution_count": 158,
   "id": "c8960586-a065-42ce-8536-297e83c4047b",
   "metadata": {},
   "outputs": [],
   "source": [
    "# Select the first 35 components\n",
    "selected_components = loadings[:35]\n",
    "selected_explained_variance = sqrt_explained_variance[:35]  # Use sqrt if desired"
   ]
  },
  {
   "cell_type": "code",
   "execution_count": 159,
   "id": "0f678df6-a655-4831-8305-87813ef80a3a",
   "metadata": {},
   "outputs": [
    {
     "name": "stdout",
     "output_type": "stream",
     "text": [
      "(35, 85)\n",
      "(35,)\n"
     ]
    }
   ],
   "source": [
    "print(selected_components.shape)\n",
    "print(selected_explained_variance.shape)"
   ]
  },
  {
   "cell_type": "code",
   "execution_count": 160,
   "id": "f0e8f4f7-70ec-4424-8505-4f002e4edf39",
   "metadata": {},
   "outputs": [],
   "source": [
    "# Calculate the weighted feature importances using the (sqrt) explained variance as weights\n",
    "weighted_importances_matrix = np.abs(selected_components) * selected_explained_variance[:, np.newaxis]"
   ]
  },
  {
   "cell_type": "code",
   "execution_count": 161,
   "id": "d22a848b-4bae-4c75-a997-834039851e05",
   "metadata": {},
   "outputs": [
    {
     "data": {
      "text/plain": [
       "(35, 85)"
      ]
     },
     "execution_count": 161,
     "metadata": {},
     "output_type": "execute_result"
    }
   ],
   "source": [
    "weighted_importances_matrix.shape"
   ]
  },
  {
   "cell_type": "code",
   "execution_count": 162,
   "id": "a7cc51b8-4a7c-49d6-8b85-61fa4bf3e227",
   "metadata": {},
   "outputs": [],
   "source": [
    "feature_importances = weighted_importances_matrix.sum(axis=0)\n",
    "normalized_feature_importances = feature_importances / feature_importances.sum()"
   ]
  },
  {
   "cell_type": "code",
   "execution_count": 163,
   "id": "a8a45403-fd4e-4619-9cd7-b03c3c0d1c21",
   "metadata": {},
   "outputs": [],
   "source": [
    "feature_importance_df = pd.DataFrame({\n",
    "    'Feature': input_df.columns,\n",
    "    'Importance': feature_importances,\n",
    "    'Normalized Importance': normalized_feature_importances\n",
    "})\n"
   ]
  },
  {
   "cell_type": "code",
   "execution_count": 164,
   "id": "57f3ba30-9086-49eb-b560-e996a6fcb553",
   "metadata": {},
   "outputs": [],
   "source": [
    "feature_importance_df = feature_importance_df.sort_values(by='Importance', ascending=False)"
   ]
  },
  {
   "cell_type": "code",
   "execution_count": 165,
   "id": "f71804ed-9867-4dc6-9430-093f3092e275",
   "metadata": {},
   "outputs": [
    {
     "name": "stdout",
     "output_type": "stream",
     "text": [
      "                       Feature  Importance  Normalized Importance\n",
      "27                 Bwd IAT Std    4.377925               0.016904\n",
      "6        Fwd Packet Length Max    4.313439               0.016655\n",
      "14                Flow Bytes/s    4.265199               0.016469\n",
      "28                 Bwd IAT Max    4.180457               0.016141\n",
      "45              FIN Flag Count    4.141903               0.015993\n",
      "17                Flow IAT Std    4.022183               0.015530\n",
      "66           Subflow Bwd Bytes    3.899776               0.015058\n",
      "58         Fwd Packet/Bulk Avg    3.863120               0.014916\n",
      "11       Bwd Packet Length Min    3.824210               0.014766\n",
      "9        Fwd Packet Length Std    3.788893               0.014630\n",
      "22                 Fwd IAT Std    3.752998               0.014491\n",
      "34               Fwd RST Flags    3.752028               0.014487\n",
      "70            Fwd Seg Size Min    3.750564               0.014482\n",
      "53               Down/Up Ratio    3.740606               0.014443\n",
      "0                     Protocol    3.712552               0.014335\n",
      "57          Fwd Bytes/Bulk Avg    3.699600               0.014285\n",
      "47              RST Flag Count    3.602370               0.013909\n",
      "5   Total Length of Bwd Packet    3.586890               0.013850\n",
      "38               Fwd Packets/s    3.553353               0.013720\n",
      "79                   ICMP Code    3.522327               0.013600\n"
     ]
    }
   ],
   "source": [
    "print(feature_importance_df.head(20)) "
   ]
  },
  {
   "cell_type": "code",
   "execution_count": 166,
   "id": "d8f9b365-feeb-455c-bf6e-1afb351b4585",
   "metadata": {},
   "outputs": [],
   "source": [
    "feature_importance_df.to_csv(f'weighted_feature_importances_{current_client_key}.csv', index=False)"
   ]
  },
  {
   "cell_type": "code",
   "execution_count": null,
   "id": "1f80afe7-cab1-41eb-b3b9-27acb2b3bae6",
   "metadata": {},
   "outputs": [],
   "source": []
  }
 ],
 "metadata": {
  "kernelspec": {
   "display_name": "Python 3 (ipykernel)",
   "language": "python",
   "name": "python3"
  },
  "language_info": {
   "codemirror_mode": {
    "name": "ipython",
    "version": 3
   },
   "file_extension": ".py",
   "mimetype": "text/x-python",
   "name": "python",
   "nbconvert_exporter": "python",
   "pygments_lexer": "ipython3",
   "version": "3.11.6"
  }
 },
 "nbformat": 4,
 "nbformat_minor": 5
}
