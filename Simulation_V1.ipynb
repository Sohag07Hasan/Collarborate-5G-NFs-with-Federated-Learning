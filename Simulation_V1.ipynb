{
 "cells": [
  {
   "cell_type": "code",
   "execution_count": 1,
   "id": "b4b3f84a-6c6a-4482-bc4c-77e73cf1f973",
   "metadata": {},
   "outputs": [
    {
     "name": "stderr",
     "output_type": "stream",
     "text": [
      "/home/sharedrive/PythonCodes/.venv311_new/lib/python3.11/site-packages/tqdm/auto.py:21: TqdmWarning: IProgress not found. Please update jupyter and ipywidgets. See https://ipywidgets.readthedocs.io/en/stable/user_install.html\n",
      "  from .autonotebook import tqdm as notebook_tqdm\n",
      "2024-08-06 23:53:46,361\tINFO util.py:154 -- Missing packages: ['ipywidgets']. Run `pip install -U ipywidgets`, then restart the notebook server for rich notebook output.\n"
     ]
    },
    {
     "name": "stdout",
     "output_type": "stream",
     "text": [
      "10\n"
     ]
    }
   ],
   "source": [
    "import flwr as fl\n",
    "from flwr.common import Metrics, NDArrays, Scalar\n",
    "from dataloader import get_datasets, apply_transforms\n",
    "from typing import Dict, List, Tuple\n",
    "from utils import get_evaluate_fn, clear_cuda_cache\n",
    "from config import LEARNING_RATE, EPOCHS, NUM_CLIENTS\n",
    "#from strategy import strategy\n",
    "from flwr_datasets import FederatedDataset\n",
    "from datasets.utils.logging import disable_progress_bar\n",
    "#from client import FlowerClient\n",
    "import matplotlib.pyplot as plt"
   ]
  },
  {
   "cell_type": "code",
   "execution_count": 9,
   "id": "9c69007b-b6cd-430c-9ae3-98fa7cba3b12",
   "metadata": {},
   "outputs": [],
   "source": [
    "from torch.utils.data import DataLoader"
   ]
  },
  {
   "cell_type": "code",
   "execution_count": 2,
   "id": "eaa2a56c-6fbe-4a76-9379-5afd88f84ab7",
   "metadata": {},
   "outputs": [],
   "source": [
    "## Return Client function with indiviual Train datasets\n",
    "def get_client_fn(dataset: FederatedDataset):\n",
    "    \"\"\"Return a function to construct a client.\n",
    "\n",
    "    The VirtualClientEngine will execute this function whenever a client is sampled by\n",
    "    the strategy to participate.\n",
    "    \"\"\"\n",
    "\n",
    "    def client_fn(cid: str) -> fl.client.Client:\n",
    "        \"\"\"Construct a FlowerClient with its own dataset partition.\"\"\"\n",
    "\n",
    "        # Let's get the partition corresponding to the i-th client\n",
    "        client_dataset = dataset.load_partition(int(cid), \"train\")\n",
    "\n",
    "        # Now let's split it into train (90%) and validation (10%)\n",
    "        client_dataset_splits = client_dataset.train_test_split(test_size=0.1, seed=42)\n",
    "\n",
    "        trainset = client_dataset_splits[\"train\"]\n",
    "        valset = client_dataset_splits[\"test\"]\n",
    "\n",
    "        # Now we apply the transform to each batch.\n",
    "        trainloader = DataLoader(\n",
    "            trainset.with_transform(apply_transforms), batch_size=32, shuffle=True\n",
    "        )\n",
    "        valloader = DataLoader(valset.with_transform(apply_transforms), batch_size=32)\n",
    "\n",
    "        # Create and return client\n",
    "        return FlowerClient(trainloader, valloader).to_client()\n",
    "\n",
    "    return client_fn"
   ]
  },
  {
   "cell_type": "code",
   "execution_count": 13,
   "id": "ec2724ee-772e-42ae-8a29-41e8b2b075b4",
   "metadata": {},
   "outputs": [
    {
     "name": "stderr",
     "output_type": "stream",
     "text": [
      "/home/sharedrive/PythonCodes/.venv311_new/lib/python3.11/site-packages/datasets/load.py:1491: FutureWarning: The repository for mnist contains custom code which must be executed to correctly load the dataset. You can inspect the repository content at https://hf.co/datasets/mnist\n",
      "You can avoid this message in future by passing the argument `trust_remote_code=True`.\n",
      "Passing `trust_remote_code=True` will be mandatory to load this dataset from the next major release of `datasets`.\n",
      "  warnings.warn(\n"
     ]
    }
   ],
   "source": [
    "## Collecting Datasets\n",
    "mnist_fds, centralized_testset = get_datasets()\n",
    "client_fn_callback = get_client_fn(mnist_fds)\n"
   ]
  },
  {
   "cell_type": "code",
   "execution_count": 14,
   "id": "d27ea6eb-4c23-4f39-ba2d-b8e38ab6c8fd",
   "metadata": {},
   "outputs": [],
   "source": [
    "def fit_config(server_round: int) -> Dict[str, Scalar]:\n",
    "    \"\"\"Return a configuration with static batch size and (local) epochs.\"\"\"\n",
    "    config = {\n",
    "        \"epochs\": EPOCHS,  # Number of local epochs done by clients\n",
    "        \"lr\": LEARNING_RATE,  # Learning rate to use by clients during fit()\n",
    "    }\n",
    "    return config"
   ]
  },
  {
   "cell_type": "code",
   "execution_count": 15,
   "id": "68b31a8f-53ed-45f4-a625-4e7493cba45e",
   "metadata": {},
   "outputs": [],
   "source": [
    "def weighted_average(metrics: List[Tuple[int, Metrics]]) -> Metrics:\n",
    "    \"\"\"Aggregation function for (federated) evaluation metrics, i.e. those returned by\n",
    "    the client's evaluate() method.\"\"\"\n",
    "    # Multiply accuracy of each client by number of examples used\n",
    "    accuracies = [num_examples * m[\"accuracy\"] for num_examples, m in metrics]\n",
    "    examples = [num_examples for num_examples, _ in metrics]\n",
    "\n",
    "    # Aggregate and return custom metric (weighted average)\n",
    "    return {\"accuracy\": sum(accuracies) / sum(examples)}\n"
   ]
  },
  {
   "cell_type": "code",
   "execution_count": 16,
   "id": "040a7cf4-5ee9-4e29-94e9-0815043b9c0d",
   "metadata": {},
   "outputs": [],
   "source": [
    "strategy = fl.server.strategy.FedAvg(\n",
    "    fraction_fit=0.1,  # Sample 10% of available clients for training\n",
    "    fraction_evaluate=0.5,  # Sample 5o% of available clients for evaluation\n",
    "    on_fit_config_fn=fit_config,\n",
    "    evaluate_metrics_aggregation_fn=weighted_average,  # aggregates federated metrics\n",
    "    evaluate_fn=get_evaluate_fn(centralized_testset),  # global evaluation function\n",
    ")"
   ]
  },
  {
   "cell_type": "code",
   "execution_count": 17,
   "id": "dc54862a-899f-4fef-8c29-54245e300656",
   "metadata": {},
   "outputs": [
    {
     "name": "stdout",
     "output_type": "stream",
     "text": [
      "CUDA cache cleared.\n"
     ]
    }
   ],
   "source": [
    "# With a dictionary, you tell Flower's VirtualClientEngine that each\n",
    "# client needs exclusive access to these many resources in order to run\n",
    "client_resources = {\"num_cpus\": 1, \"num_gpus\": 1}\n",
    "\n",
    "# Let's disable tqdm progress bar in the main thread (used by the server)\n",
    "disable_progress_bar()\n",
    "\n",
    "# Clear the Cache from GPU\n",
    "clear_cuda_cache()"
   ]
  },
  {
   "cell_type": "code",
   "execution_count": 18,
   "id": "bf1ed3e6-d35e-47eb-a3f0-dd16594dee1d",
   "metadata": {},
   "outputs": [
    {
     "name": "stderr",
     "output_type": "stream",
     "text": [
      "\u001b[92mINFO \u001b[0m:      Starting Flower simulation, config: num_rounds=10, no round_timeout\n",
      "2024-08-07 00:08:21,804\tINFO worker.py:1752 -- Started a local Ray instance.\n",
      "\u001b[92mINFO \u001b[0m:      Flower VCE: Ray initialized with resources: {'object_store_memory': 17603458252.0, 'accelerator_type:RTX': 1.0, 'node:__internal_head__': 1.0, 'GPU': 1.0, 'CPU': 24.0, 'memory': 35206916507.0, 'node:142.3.141.39': 1.0}\n",
      "\u001b[92mINFO \u001b[0m:      Optimize your simulation with Flower VCE: https://flower.ai/docs/framework/how-to-run-simulations.html\n",
      "\u001b[92mINFO \u001b[0m:      Flower VCE: Resources for each Virtual Client: {'num_cpus': 1, 'num_gpus': 1}\n",
      "\u001b[92mINFO \u001b[0m:      Flower VCE: Creating VirtualClientEngineActorPool with 1 actors\n",
      "\u001b[92mINFO \u001b[0m:      [INIT]\n",
      "\u001b[92mINFO \u001b[0m:      Requesting initial parameters from one random client\n",
      "\u001b[91mERROR \u001b[0m:     Traceback (most recent call last):\n",
      "  File \"/home/sharedrive/PythonCodes/.venv311_new/lib/python3.11/site-packages/flwr/simulation/ray_transport/ray_client_proxy.py\", line 73, in _submit_job\n",
      "    out_mssg, updated_context = self.actor_pool.get_client_result(\n",
      "                                ^^^^^^^^^^^^^^^^^^^^^^^^^^^^^^^^^^\n",
      "  File \"/home/sharedrive/PythonCodes/.venv311_new/lib/python3.11/site-packages/flwr/simulation/ray_transport/ray_actor.py\", line 399, in get_client_result\n",
      "    return self._fetch_future_result(cid)\n",
      "           ^^^^^^^^^^^^^^^^^^^^^^^^^^^^^^\n",
      "  File \"/home/sharedrive/PythonCodes/.venv311_new/lib/python3.11/site-packages/flwr/simulation/ray_transport/ray_actor.py\", line 280, in _fetch_future_result\n",
      "    res_cid, out_mssg, updated_context = ray.get(\n",
      "                                         ^^^^^^^^\n",
      "  File \"/home/sharedrive/PythonCodes/.venv311_new/lib/python3.11/site-packages/ray/_private/auto_init_hook.py\", line 21, in auto_init_wrapper\n",
      "    return fn(*args, **kwargs)\n",
      "           ^^^^^^^^^^^^^^^^^^^\n",
      "  File \"/home/sharedrive/PythonCodes/.venv311_new/lib/python3.11/site-packages/ray/_private/client_mode_hook.py\", line 103, in wrapper\n",
      "    return func(*args, **kwargs)\n",
      "           ^^^^^^^^^^^^^^^^^^^^^\n",
      "  File \"/home/sharedrive/PythonCodes/.venv311_new/lib/python3.11/site-packages/ray/_private/worker.py\", line 2667, in get\n",
      "    values, debugger_breakpoint = worker.get_objects(object_refs, timeout=timeout)\n",
      "                                  ^^^^^^^^^^^^^^^^^^^^^^^^^^^^^^^^^^^^^^^^^^^^^^^^\n",
      "  File \"/home/sharedrive/PythonCodes/.venv311_new/lib/python3.11/site-packages/ray/_private/worker.py\", line 864, in get_objects\n",
      "    raise value.as_instanceof_cause()\n",
      "ray.exceptions.RayTaskError(RaySystemError): \u001b[36mray::ClientAppActor.run()\u001b[39m (pid=473778, ip=142.3.141.39, actor_id=a70d1739d1e394e68a26846401000000, repr=<flwr.simulation.ray_transport.ray_actor.ClientAppActor object at 0x7f7e20432a10>)\n",
      "  At least one of the input arguments for this task could not be computed:\n",
      "ray.exceptions.RaySystemError: System error: No module named 'dataloader'\n",
      "traceback: Traceback (most recent call last):\n",
      "          ^^^^^^^^^^^^^^^^^^^^^^^^^^^^^^^^^^^^^^^^^^^^^^^^^^^^\n",
      "           ^^^^^^^^^^^^^^^^^^^^^^^^^^^^^^^^^^^^^^^^^^^^^^^^^^^^^\n",
      "                     ^^^^^^^^^^^^^^^^^^^^^^^^^^^^^^^^^^^^^^^^^^^^\n",
      "          ^^^^^^^^^^^^^^^^^^^^^\n",
      "ModuleNotFoundError: No module named 'dataloader'\n",
      "\n",
      "\u001b[91mERROR \u001b[0m:     \u001b[36mray::ClientAppActor.run()\u001b[39m (pid=473778, ip=142.3.141.39, actor_id=a70d1739d1e394e68a26846401000000, repr=<flwr.simulation.ray_transport.ray_actor.ClientAppActor object at 0x7f7e20432a10>)\n",
      "  At least one of the input arguments for this task could not be computed:\n",
      "ray.exceptions.RaySystemError: System error: No module named 'dataloader'\n",
      "traceback: Traceback (most recent call last):\n",
      "          ^^^^^^^^^^^^^^^^^^^^^^^^^^^^^^^^^^^^^^^^^^^^^^^^^^^^\n",
      "           ^^^^^^^^^^^^^^^^^^^^^^^^^^^^^^^^^^^^^^^^^^^^^^^^^^^^^\n",
      "                     ^^^^^^^^^^^^^^^^^^^^^^^^^^^^^^^^^^^^^^^^^^^^\n",
      "          ^^^^^^^^^^^^^^^^^^^^^\n",
      "ModuleNotFoundError: No module named 'dataloader'\n",
      "\u001b[91mERROR \u001b[0m:     \u001b[36mray::ClientAppActor.run()\u001b[39m (pid=473778, ip=142.3.141.39, actor_id=a70d1739d1e394e68a26846401000000, repr=<flwr.simulation.ray_transport.ray_actor.ClientAppActor object at 0x7f7e20432a10>)\n",
      "  At least one of the input arguments for this task could not be computed:\n",
      "ray.exceptions.RaySystemError: System error: No module named 'dataloader'\n",
      "traceback: Traceback (most recent call last):\n",
      "          ^^^^^^^^^^^^^^^^^^^^^^^^^^^^^^^^^^^^^^^^^^^^^^^^^^^^\n",
      "           ^^^^^^^^^^^^^^^^^^^^^^^^^^^^^^^^^^^^^^^^^^^^^^^^^^^^^\n",
      "                     ^^^^^^^^^^^^^^^^^^^^^^^^^^^^^^^^^^^^^^^^^^^^\n",
      "          ^^^^^^^^^^^^^^^^^^^^^\n",
      "ModuleNotFoundError: No module named 'dataloader'\n",
      "\u001b[91mERROR \u001b[0m:     Traceback (most recent call last):\n",
      "  File \"/home/sharedrive/PythonCodes/.venv311_new/lib/python3.11/site-packages/flwr/simulation/app.py\", line 323, in start_simulation\n",
      "    hist = run_fl(\n",
      "           ^^^^^^^\n",
      "  File \"/home/sharedrive/PythonCodes/.venv311_new/lib/python3.11/site-packages/flwr/server/server.py\", line 490, in run_fl\n",
      "    hist, elapsed_time = server.fit(\n",
      "                         ^^^^^^^^^^^\n",
      "  File \"/home/sharedrive/PythonCodes/.venv311_new/lib/python3.11/site-packages/flwr/server/server.py\", line 93, in fit\n",
      "    self.parameters = self._get_initial_parameters(server_round=0, timeout=timeout)\n",
      "                      ^^^^^^^^^^^^^^^^^^^^^^^^^^^^^^^^^^^^^^^^^^^^^^^^^^^^^^^^^^^^^\n",
      "  File \"/home/sharedrive/PythonCodes/.venv311_new/lib/python3.11/site-packages/flwr/server/server.py\", line 282, in _get_initial_parameters\n",
      "    get_parameters_res = random_client.get_parameters(\n",
      "                         ^^^^^^^^^^^^^^^^^^^^^^^^^^^^^\n",
      "  File \"/home/sharedrive/PythonCodes/.venv311_new/lib/python3.11/site-packages/flwr/simulation/ray_transport/ray_client_proxy.py\", line 148, in get_parameters\n",
      "    message_out = self._submit_job(message, timeout)\n",
      "                  ^^^^^^^^^^^^^^^^^^^^^^^^^^^^^^^^^^\n",
      "  File \"/home/sharedrive/PythonCodes/.venv311_new/lib/python3.11/site-packages/flwr/simulation/ray_transport/ray_client_proxy.py\", line 87, in _submit_job\n",
      "    raise ex\n",
      "  File \"/home/sharedrive/PythonCodes/.venv311_new/lib/python3.11/site-packages/flwr/simulation/ray_transport/ray_client_proxy.py\", line 73, in _submit_job\n",
      "    out_mssg, updated_context = self.actor_pool.get_client_result(\n",
      "                                ^^^^^^^^^^^^^^^^^^^^^^^^^^^^^^^^^^\n",
      "  File \"/home/sharedrive/PythonCodes/.venv311_new/lib/python3.11/site-packages/flwr/simulation/ray_transport/ray_actor.py\", line 399, in get_client_result\n",
      "    return self._fetch_future_result(cid)\n",
      "           ^^^^^^^^^^^^^^^^^^^^^^^^^^^^^^\n",
      "  File \"/home/sharedrive/PythonCodes/.venv311_new/lib/python3.11/site-packages/flwr/simulation/ray_transport/ray_actor.py\", line 280, in _fetch_future_result\n",
      "    res_cid, out_mssg, updated_context = ray.get(\n",
      "                                         ^^^^^^^^\n",
      "  File \"/home/sharedrive/PythonCodes/.venv311_new/lib/python3.11/site-packages/ray/_private/auto_init_hook.py\", line 21, in auto_init_wrapper\n",
      "    return fn(*args, **kwargs)\n",
      "           ^^^^^^^^^^^^^^^^^^^\n",
      "  File \"/home/sharedrive/PythonCodes/.venv311_new/lib/python3.11/site-packages/ray/_private/client_mode_hook.py\", line 103, in wrapper\n",
      "    return func(*args, **kwargs)\n",
      "           ^^^^^^^^^^^^^^^^^^^^^\n",
      "  File \"/home/sharedrive/PythonCodes/.venv311_new/lib/python3.11/site-packages/ray/_private/worker.py\", line 2667, in get\n",
      "    values, debugger_breakpoint = worker.get_objects(object_refs, timeout=timeout)\n",
      "                                  ^^^^^^^^^^^^^^^^^^^^^^^^^^^^^^^^^^^^^^^^^^^^^^^^\n",
      "  File \"/home/sharedrive/PythonCodes/.venv311_new/lib/python3.11/site-packages/ray/_private/worker.py\", line 864, in get_objects\n",
      "    raise value.as_instanceof_cause()\n",
      "ray.exceptions.RayTaskError(RaySystemError): \u001b[36mray::ClientAppActor.run()\u001b[39m (pid=473778, ip=142.3.141.39, actor_id=a70d1739d1e394e68a26846401000000, repr=<flwr.simulation.ray_transport.ray_actor.ClientAppActor object at 0x7f7e20432a10>)\n",
      "  At least one of the input arguments for this task could not be computed:\n",
      "ray.exceptions.RaySystemError: System error: No module named 'dataloader'\n",
      "traceback: Traceback (most recent call last):\n",
      "          ^^^^^^^^^^^^^^^^^^^^^^^^^^^^^^^^^^^^^^^^^^^^^^^^^^^^\n",
      "           ^^^^^^^^^^^^^^^^^^^^^^^^^^^^^^^^^^^^^^^^^^^^^^^^^^^^^\n",
      "                     ^^^^^^^^^^^^^^^^^^^^^^^^^^^^^^^^^^^^^^^^^^^^\n",
      "          ^^^^^^^^^^^^^^^^^^^^^\n",
      "ModuleNotFoundError: No module named 'dataloader'\n",
      "\n",
      "\u001b[91mERROR \u001b[0m:     Your simulation crashed :(. This could be because of several reasons. The most common are: \n",
      "\t > Sometimes, issues in the simulation code itself can cause crashes. It's always a good idea to double-check your code for any potential bugs or inconsistencies that might be contributing to the problem. For example: \n",
      "\t\t - You might be using a class attribute in your clients that hasn't been defined.\n",
      "\t\t - There could be an incorrect method call to a 3rd party library (e.g., PyTorch).\n",
      "\t\t - The return types of methods in your clients/strategies might be incorrect.\n",
      "\t > Your system couldn't fit a single VirtualClient: try lowering `client_resources`.\n",
      "\t > All the actors in your pool crashed. This could be because: \n",
      "\t\t - You clients hit an out-of-memory (OOM) error and actors couldn't recover from it. Try launching your simulation with more generous `client_resources` setting (i.e. it seems {'num_cpus': 1, 'num_gpus': 1} is not enough for your run). Use fewer concurrent actors. \n",
      "\t\t - You were running a multi-node simulation and all worker nodes disconnected. The head node might still be alive but cannot accommodate any actor with resources: {'num_cpus': 1, 'num_gpus': 1}.\n",
      "Take a look at the Flower simulation examples for guidance <https://flower.ai/docs/framework/how-to-run-simulations.html>.\n",
      "\u001b[36m(ClientAppActor pid=473778)\u001b[0m No module named 'dataloader'\n",
      "\u001b[36m(ClientAppActor pid=473778)\u001b[0m Traceback (most recent call last):\n",
      "\u001b[36m(ClientAppActor pid=473778)\u001b[0m   File \"/home/sharedrive/PythonCodes/.venv311_new/lib/python3.11/site-packages/ray/_private/serialization.py\", line 404, in deserialize_objects\n",
      "\u001b[36m(ClientAppActor pid=473778)\u001b[0m     obj = self._deserialize_object(data, metadata, object_ref)\n",
      "\u001b[36m(ClientAppActor pid=473778)\u001b[0m           ^^^^^^^^^^^^^^^^^^^^^^^^^^^^^^^^^^^^^^^^^^^^^^^^^^^^\n",
      "\u001b[36m(ClientAppActor pid=473778)\u001b[0m   File \"/home/sharedrive/PythonCodes/.venv311_new/lib/python3.11/site-packages/ray/_private/serialization.py\", line 270, in _deserialize_object\n",
      "\u001b[36m(ClientAppActor pid=473778)\u001b[0m     return self._deserialize_msgpack_data(data, metadata_fields)\n",
      "\u001b[36m(ClientAppActor pid=473778)\u001b[0m            ^^^^^^^^^^^^^^^^^^^^^^^^^^^^^^^^^^^^^^^^^^^^^^^^^^^^^\n",
      "\u001b[36m(ClientAppActor pid=473778)\u001b[0m   File \"/home/sharedrive/PythonCodes/.venv311_new/lib/python3.11/site-packages/ray/_private/serialization.py\", line 225, in _deserialize_msgpack_data\n",
      "\u001b[36m(ClientAppActor pid=473778)\u001b[0m     python_objects = self._deserialize_pickle5_data(pickle5_data)\n",
      "\u001b[36m(ClientAppActor pid=473778)\u001b[0m                      ^^^^^^^^^^^^^^^^^^^^^^^^^^^^^^^^^^^^^^^^^^^^\n",
      "\u001b[36m(ClientAppActor pid=473778)\u001b[0m   File \"/home/sharedrive/PythonCodes/.venv311_new/lib/python3.11/site-packages/ray/_private/serialization.py\", line 215, in _deserialize_pickle5_data\n",
      "\u001b[36m(ClientAppActor pid=473778)\u001b[0m     obj = pickle.loads(in_band)\n",
      "\u001b[36m(ClientAppActor pid=473778)\u001b[0m           ^^^^^^^^^^^^^^^^^^^^^\n",
      "\u001b[36m(ClientAppActor pid=473778)\u001b[0m ModuleNotFoundError: No module named 'dataloader'\n"
     ]
    },
    {
     "ename": "RuntimeError",
     "evalue": "Simulation crashed.",
     "output_type": "error",
     "traceback": [
      "\u001b[0;31m---------------------------------------------------------------------------\u001b[0m",
      "\u001b[0;31mRayTaskError(RaySystemError)\u001b[0m              Traceback (most recent call last)",
      "File \u001b[0;32m/home/sharedrive/PythonCodes/.venv311_new/lib/python3.11/site-packages/flwr/simulation/app.py:323\u001b[0m, in \u001b[0;36mstart_simulation\u001b[0;34m(client_fn, num_clients, clients_ids, client_resources, server, config, strategy, client_manager, ray_init_args, keep_initialised, actor_type, actor_kwargs, actor_scheduling)\u001b[0m\n\u001b[1;32m    321\u001b[0m \u001b[38;5;28;01mtry\u001b[39;00m:\n\u001b[1;32m    322\u001b[0m     \u001b[38;5;66;03m# Start training\u001b[39;00m\n\u001b[0;32m--> 323\u001b[0m     hist \u001b[38;5;241m=\u001b[39m \u001b[43mrun_fl\u001b[49m\u001b[43m(\u001b[49m\n\u001b[1;32m    324\u001b[0m \u001b[43m        \u001b[49m\u001b[43mserver\u001b[49m\u001b[38;5;241;43m=\u001b[39;49m\u001b[43minitialized_server\u001b[49m\u001b[43m,\u001b[49m\n\u001b[1;32m    325\u001b[0m \u001b[43m        \u001b[49m\u001b[43mconfig\u001b[49m\u001b[38;5;241;43m=\u001b[39;49m\u001b[43minitialized_config\u001b[49m\u001b[43m,\u001b[49m\n\u001b[1;32m    326\u001b[0m \u001b[43m    \u001b[49m\u001b[43m)\u001b[49m\n\u001b[1;32m    327\u001b[0m \u001b[38;5;28;01mexcept\u001b[39;00m \u001b[38;5;167;01mException\u001b[39;00m \u001b[38;5;28;01mas\u001b[39;00m ex:\n",
      "File \u001b[0;32m/home/sharedrive/PythonCodes/.venv311_new/lib/python3.11/site-packages/flwr/server/server.py:490\u001b[0m, in \u001b[0;36mrun_fl\u001b[0;34m(server, config)\u001b[0m\n\u001b[1;32m    489\u001b[0m \u001b[38;5;250m\u001b[39m\u001b[38;5;124;03m\"\"\"Train a model on the given server and return the History object.\"\"\"\u001b[39;00m\n\u001b[0;32m--> 490\u001b[0m hist, elapsed_time \u001b[38;5;241m=\u001b[39m \u001b[43mserver\u001b[49m\u001b[38;5;241;43m.\u001b[39;49m\u001b[43mfit\u001b[49m\u001b[43m(\u001b[49m\n\u001b[1;32m    491\u001b[0m \u001b[43m    \u001b[49m\u001b[43mnum_rounds\u001b[49m\u001b[38;5;241;43m=\u001b[39;49m\u001b[43mconfig\u001b[49m\u001b[38;5;241;43m.\u001b[39;49m\u001b[43mnum_rounds\u001b[49m\u001b[43m,\u001b[49m\u001b[43m \u001b[49m\u001b[43mtimeout\u001b[49m\u001b[38;5;241;43m=\u001b[39;49m\u001b[43mconfig\u001b[49m\u001b[38;5;241;43m.\u001b[39;49m\u001b[43mround_timeout\u001b[49m\n\u001b[1;32m    492\u001b[0m \u001b[43m\u001b[49m\u001b[43m)\u001b[49m\n\u001b[1;32m    494\u001b[0m log(INFO, \u001b[38;5;124m\"\u001b[39m\u001b[38;5;124m\"\u001b[39m)\n",
      "File \u001b[0;32m/home/sharedrive/PythonCodes/.venv311_new/lib/python3.11/site-packages/flwr/server/server.py:93\u001b[0m, in \u001b[0;36mServer.fit\u001b[0;34m(self, num_rounds, timeout)\u001b[0m\n\u001b[1;32m     92\u001b[0m log(INFO, \u001b[38;5;124m\"\u001b[39m\u001b[38;5;124m[INIT]\u001b[39m\u001b[38;5;124m\"\u001b[39m)\n\u001b[0;32m---> 93\u001b[0m \u001b[38;5;28mself\u001b[39m\u001b[38;5;241m.\u001b[39mparameters \u001b[38;5;241m=\u001b[39m \u001b[38;5;28;43mself\u001b[39;49m\u001b[38;5;241;43m.\u001b[39;49m\u001b[43m_get_initial_parameters\u001b[49m\u001b[43m(\u001b[49m\u001b[43mserver_round\u001b[49m\u001b[38;5;241;43m=\u001b[39;49m\u001b[38;5;241;43m0\u001b[39;49m\u001b[43m,\u001b[49m\u001b[43m \u001b[49m\u001b[43mtimeout\u001b[49m\u001b[38;5;241;43m=\u001b[39;49m\u001b[43mtimeout\u001b[49m\u001b[43m)\u001b[49m\n\u001b[1;32m     94\u001b[0m log(INFO, \u001b[38;5;124m\"\u001b[39m\u001b[38;5;124mEvaluating initial global parameters\u001b[39m\u001b[38;5;124m\"\u001b[39m)\n",
      "File \u001b[0;32m/home/sharedrive/PythonCodes/.venv311_new/lib/python3.11/site-packages/flwr/server/server.py:282\u001b[0m, in \u001b[0;36mServer._get_initial_parameters\u001b[0;34m(self, server_round, timeout)\u001b[0m\n\u001b[1;32m    281\u001b[0m ins \u001b[38;5;241m=\u001b[39m GetParametersIns(config\u001b[38;5;241m=\u001b[39m{})\n\u001b[0;32m--> 282\u001b[0m get_parameters_res \u001b[38;5;241m=\u001b[39m \u001b[43mrandom_client\u001b[49m\u001b[38;5;241;43m.\u001b[39;49m\u001b[43mget_parameters\u001b[49m\u001b[43m(\u001b[49m\n\u001b[1;32m    283\u001b[0m \u001b[43m    \u001b[49m\u001b[43mins\u001b[49m\u001b[38;5;241;43m=\u001b[39;49m\u001b[43mins\u001b[49m\u001b[43m,\u001b[49m\u001b[43m \u001b[49m\u001b[43mtimeout\u001b[49m\u001b[38;5;241;43m=\u001b[39;49m\u001b[43mtimeout\u001b[49m\u001b[43m,\u001b[49m\u001b[43m \u001b[49m\u001b[43mgroup_id\u001b[49m\u001b[38;5;241;43m=\u001b[39;49m\u001b[43mserver_round\u001b[49m\n\u001b[1;32m    284\u001b[0m \u001b[43m\u001b[49m\u001b[43m)\u001b[49m\n\u001b[1;32m    285\u001b[0m \u001b[38;5;28;01mif\u001b[39;00m get_parameters_res\u001b[38;5;241m.\u001b[39mstatus\u001b[38;5;241m.\u001b[39mcode \u001b[38;5;241m==\u001b[39m Code\u001b[38;5;241m.\u001b[39mOK:\n",
      "File \u001b[0;32m/home/sharedrive/PythonCodes/.venv311_new/lib/python3.11/site-packages/flwr/simulation/ray_transport/ray_client_proxy.py:148\u001b[0m, in \u001b[0;36mRayActorClientProxy.get_parameters\u001b[0;34m(self, ins, timeout, group_id)\u001b[0m\n\u001b[1;32m    141\u001b[0m message \u001b[38;5;241m=\u001b[39m \u001b[38;5;28mself\u001b[39m\u001b[38;5;241m.\u001b[39m_wrap_recordset_in_message(\n\u001b[1;32m    142\u001b[0m     recordset,\n\u001b[1;32m    143\u001b[0m     message_type\u001b[38;5;241m=\u001b[39mMessageTypeLegacy\u001b[38;5;241m.\u001b[39mGET_PARAMETERS,\n\u001b[1;32m    144\u001b[0m     timeout\u001b[38;5;241m=\u001b[39mtimeout,\n\u001b[1;32m    145\u001b[0m     group_id\u001b[38;5;241m=\u001b[39mgroup_id,\n\u001b[1;32m    146\u001b[0m )\n\u001b[0;32m--> 148\u001b[0m message_out \u001b[38;5;241m=\u001b[39m \u001b[38;5;28;43mself\u001b[39;49m\u001b[38;5;241;43m.\u001b[39;49m\u001b[43m_submit_job\u001b[49m\u001b[43m(\u001b[49m\u001b[43mmessage\u001b[49m\u001b[43m,\u001b[49m\u001b[43m \u001b[49m\u001b[43mtimeout\u001b[49m\u001b[43m)\u001b[49m\n\u001b[1;32m    150\u001b[0m \u001b[38;5;28;01mreturn\u001b[39;00m recordset_to_getparametersres(message_out\u001b[38;5;241m.\u001b[39mcontent, keep_input\u001b[38;5;241m=\u001b[39m\u001b[38;5;28;01mFalse\u001b[39;00m)\n",
      "File \u001b[0;32m/home/sharedrive/PythonCodes/.venv311_new/lib/python3.11/site-packages/flwr/simulation/ray_transport/ray_client_proxy.py:87\u001b[0m, in \u001b[0;36mRayActorClientProxy._submit_job\u001b[0;34m(self, message, timeout)\u001b[0m\n\u001b[1;32m     86\u001b[0m     log(ERROR, ex)\n\u001b[0;32m---> 87\u001b[0m     \u001b[38;5;28;01mraise\u001b[39;00m ex\n\u001b[1;32m     89\u001b[0m \u001b[38;5;28;01mreturn\u001b[39;00m out_mssg\n",
      "File \u001b[0;32m/home/sharedrive/PythonCodes/.venv311_new/lib/python3.11/site-packages/flwr/simulation/ray_transport/ray_client_proxy.py:73\u001b[0m, in \u001b[0;36mRayActorClientProxy._submit_job\u001b[0;34m(self, message, timeout)\u001b[0m\n\u001b[1;32m     69\u001b[0m \u001b[38;5;28mself\u001b[39m\u001b[38;5;241m.\u001b[39mactor_pool\u001b[38;5;241m.\u001b[39msubmit_client_job(\n\u001b[1;32m     70\u001b[0m     \u001b[38;5;28;01mlambda\u001b[39;00m a, a_fn, mssg, cid, state: a\u001b[38;5;241m.\u001b[39mrun\u001b[38;5;241m.\u001b[39mremote(a_fn, mssg, cid, state),\n\u001b[1;32m     71\u001b[0m     (\u001b[38;5;28mself\u001b[39m\u001b[38;5;241m.\u001b[39mapp_fn, message, \u001b[38;5;28mself\u001b[39m\u001b[38;5;241m.\u001b[39mcid, state),\n\u001b[1;32m     72\u001b[0m )\n\u001b[0;32m---> 73\u001b[0m out_mssg, updated_context \u001b[38;5;241m=\u001b[39m \u001b[38;5;28;43mself\u001b[39;49m\u001b[38;5;241;43m.\u001b[39;49m\u001b[43mactor_pool\u001b[49m\u001b[38;5;241;43m.\u001b[39;49m\u001b[43mget_client_result\u001b[49m\u001b[43m(\u001b[49m\n\u001b[1;32m     74\u001b[0m \u001b[43m    \u001b[49m\u001b[38;5;28;43mself\u001b[39;49m\u001b[38;5;241;43m.\u001b[39;49m\u001b[43mcid\u001b[49m\u001b[43m,\u001b[49m\u001b[43m \u001b[49m\u001b[43mtimeout\u001b[49m\n\u001b[1;32m     75\u001b[0m \u001b[43m\u001b[49m\u001b[43m)\u001b[49m\n\u001b[1;32m     77\u001b[0m \u001b[38;5;66;03m# Update state\u001b[39;00m\n",
      "File \u001b[0;32m/home/sharedrive/PythonCodes/.venv311_new/lib/python3.11/site-packages/flwr/simulation/ray_transport/ray_actor.py:399\u001b[0m, in \u001b[0;36mVirtualClientEngineActorPool.get_client_result\u001b[0;34m(self, cid, timeout)\u001b[0m\n\u001b[1;32m    397\u001b[0m \u001b[38;5;66;03m# Fetch result belonging to the VirtualClient calling this method\u001b[39;00m\n\u001b[1;32m    398\u001b[0m \u001b[38;5;66;03m# Return both result from tasks and (potentially) updated run context\u001b[39;00m\n\u001b[0;32m--> 399\u001b[0m \u001b[38;5;28;01mreturn\u001b[39;00m \u001b[38;5;28;43mself\u001b[39;49m\u001b[38;5;241;43m.\u001b[39;49m\u001b[43m_fetch_future_result\u001b[49m\u001b[43m(\u001b[49m\u001b[43mcid\u001b[49m\u001b[43m)\u001b[49m\n",
      "File \u001b[0;32m/home/sharedrive/PythonCodes/.venv311_new/lib/python3.11/site-packages/flwr/simulation/ray_transport/ray_actor.py:280\u001b[0m, in \u001b[0;36mVirtualClientEngineActorPool._fetch_future_result\u001b[0;34m(self, cid)\u001b[0m\n\u001b[1;32m    279\u001b[0m     future: ObjectRef[Any] \u001b[38;5;241m=\u001b[39m \u001b[38;5;28mself\u001b[39m\u001b[38;5;241m.\u001b[39m_cid_to_future[cid][\u001b[38;5;124m\"\u001b[39m\u001b[38;5;124mfuture\u001b[39m\u001b[38;5;124m\"\u001b[39m]  \u001b[38;5;66;03m# type: ignore\u001b[39;00m\n\u001b[0;32m--> 280\u001b[0m     res_cid, out_mssg, updated_context \u001b[38;5;241m=\u001b[39m \u001b[43mray\u001b[49m\u001b[38;5;241;43m.\u001b[39;49m\u001b[43mget\u001b[49m\u001b[43m(\u001b[49m\n\u001b[1;32m    281\u001b[0m \u001b[43m        \u001b[49m\u001b[43mfuture\u001b[49m\n\u001b[1;32m    282\u001b[0m \u001b[43m    \u001b[49m\u001b[43m)\u001b[49m  \u001b[38;5;66;03m# type: (str, Message, Context)\u001b[39;00m\n\u001b[1;32m    283\u001b[0m \u001b[38;5;28;01mexcept\u001b[39;00m ray\u001b[38;5;241m.\u001b[39mexceptions\u001b[38;5;241m.\u001b[39mRayActorError \u001b[38;5;28;01mas\u001b[39;00m ex:\n",
      "File \u001b[0;32m/home/sharedrive/PythonCodes/.venv311_new/lib/python3.11/site-packages/ray/_private/auto_init_hook.py:21\u001b[0m, in \u001b[0;36mwrap_auto_init.<locals>.auto_init_wrapper\u001b[0;34m(*args, **kwargs)\u001b[0m\n\u001b[1;32m     20\u001b[0m auto_init_ray()\n\u001b[0;32m---> 21\u001b[0m \u001b[38;5;28;01mreturn\u001b[39;00m \u001b[43mfn\u001b[49m\u001b[43m(\u001b[49m\u001b[38;5;241;43m*\u001b[39;49m\u001b[43margs\u001b[49m\u001b[43m,\u001b[49m\u001b[43m \u001b[49m\u001b[38;5;241;43m*\u001b[39;49m\u001b[38;5;241;43m*\u001b[39;49m\u001b[43mkwargs\u001b[49m\u001b[43m)\u001b[49m\n",
      "File \u001b[0;32m/home/sharedrive/PythonCodes/.venv311_new/lib/python3.11/site-packages/ray/_private/client_mode_hook.py:103\u001b[0m, in \u001b[0;36mclient_mode_hook.<locals>.wrapper\u001b[0;34m(*args, **kwargs)\u001b[0m\n\u001b[1;32m    102\u001b[0m         \u001b[38;5;28;01mreturn\u001b[39;00m \u001b[38;5;28mgetattr\u001b[39m(ray, func\u001b[38;5;241m.\u001b[39m\u001b[38;5;18m__name__\u001b[39m)(\u001b[38;5;241m*\u001b[39margs, \u001b[38;5;241m*\u001b[39m\u001b[38;5;241m*\u001b[39mkwargs)\n\u001b[0;32m--> 103\u001b[0m \u001b[38;5;28;01mreturn\u001b[39;00m \u001b[43mfunc\u001b[49m\u001b[43m(\u001b[49m\u001b[38;5;241;43m*\u001b[39;49m\u001b[43margs\u001b[49m\u001b[43m,\u001b[49m\u001b[43m \u001b[49m\u001b[38;5;241;43m*\u001b[39;49m\u001b[38;5;241;43m*\u001b[39;49m\u001b[43mkwargs\u001b[49m\u001b[43m)\u001b[49m\n",
      "File \u001b[0;32m/home/sharedrive/PythonCodes/.venv311_new/lib/python3.11/site-packages/ray/_private/worker.py:2667\u001b[0m, in \u001b[0;36mget\u001b[0;34m(object_refs, timeout)\u001b[0m\n\u001b[1;32m   2666\u001b[0m \u001b[38;5;66;03m# TODO(ujvl): Consider how to allow user to retrieve the ready objects.\u001b[39;00m\n\u001b[0;32m-> 2667\u001b[0m values, debugger_breakpoint \u001b[38;5;241m=\u001b[39m \u001b[43mworker\u001b[49m\u001b[38;5;241;43m.\u001b[39;49m\u001b[43mget_objects\u001b[49m\u001b[43m(\u001b[49m\u001b[43mobject_refs\u001b[49m\u001b[43m,\u001b[49m\u001b[43m \u001b[49m\u001b[43mtimeout\u001b[49m\u001b[38;5;241;43m=\u001b[39;49m\u001b[43mtimeout\u001b[49m\u001b[43m)\u001b[49m\n\u001b[1;32m   2668\u001b[0m \u001b[38;5;28;01mfor\u001b[39;00m i, value \u001b[38;5;129;01min\u001b[39;00m \u001b[38;5;28menumerate\u001b[39m(values):\n",
      "File \u001b[0;32m/home/sharedrive/PythonCodes/.venv311_new/lib/python3.11/site-packages/ray/_private/worker.py:864\u001b[0m, in \u001b[0;36mWorker.get_objects\u001b[0;34m(self, object_refs, timeout)\u001b[0m\n\u001b[1;32m    863\u001b[0m \u001b[38;5;28;01mif\u001b[39;00m \u001b[38;5;28misinstance\u001b[39m(value, RayTaskError):\n\u001b[0;32m--> 864\u001b[0m     \u001b[38;5;28;01mraise\u001b[39;00m value\u001b[38;5;241m.\u001b[39mas_instanceof_cause()\n\u001b[1;32m    865\u001b[0m \u001b[38;5;28;01melse\u001b[39;00m:\n",
      "\u001b[0;31mRayTaskError(RaySystemError)\u001b[0m: \u001b[36mray::ClientAppActor.run()\u001b[39m (pid=473778, ip=142.3.141.39, actor_id=a70d1739d1e394e68a26846401000000, repr=<flwr.simulation.ray_transport.ray_actor.ClientAppActor object at 0x7f7e20432a10>)\n  At least one of the input arguments for this task could not be computed:\nray.exceptions.RaySystemError: System error: No module named 'dataloader'\ntraceback: Traceback (most recent call last):\n          ^^^^^^^^^^^^^^^^^^^^^^^^^^^^^^^^^^^^^^^^^^^^^^^^^^^^\n           ^^^^^^^^^^^^^^^^^^^^^^^^^^^^^^^^^^^^^^^^^^^^^^^^^^^^^\n                     ^^^^^^^^^^^^^^^^^^^^^^^^^^^^^^^^^^^^^^^^^^^^\n          ^^^^^^^^^^^^^^^^^^^^^\nModuleNotFoundError: No module named 'dataloader'",
      "\nThe above exception was the direct cause of the following exception:\n",
      "\u001b[0;31mRuntimeError\u001b[0m                              Traceback (most recent call last)",
      "Cell \u001b[0;32mIn[18], line 1\u001b[0m\n\u001b[0;32m----> 1\u001b[0m history \u001b[38;5;241m=\u001b[39m \u001b[43mfl\u001b[49m\u001b[38;5;241;43m.\u001b[39;49m\u001b[43msimulation\u001b[49m\u001b[38;5;241;43m.\u001b[39;49m\u001b[43mstart_simulation\u001b[49m\u001b[43m(\u001b[49m\n\u001b[1;32m      2\u001b[0m \u001b[43m    \u001b[49m\u001b[43mclient_fn\u001b[49m\u001b[38;5;241;43m=\u001b[39;49m\u001b[43mclient_fn_callback\u001b[49m\u001b[43m,\u001b[49m\u001b[43m  \u001b[49m\u001b[38;5;66;43;03m# a callback to construct a client\u001b[39;49;00m\n\u001b[1;32m      3\u001b[0m \u001b[43m    \u001b[49m\u001b[43mnum_clients\u001b[49m\u001b[38;5;241;43m=\u001b[39;49m\u001b[43mNUM_CLIENTS\u001b[49m\u001b[43m,\u001b[49m\u001b[43m  \u001b[49m\u001b[38;5;66;43;03m# total number of clients in the experiment\u001b[39;49;00m\n\u001b[1;32m      4\u001b[0m \u001b[43m    \u001b[49m\u001b[43mconfig\u001b[49m\u001b[38;5;241;43m=\u001b[39;49m\u001b[43mfl\u001b[49m\u001b[38;5;241;43m.\u001b[39;49m\u001b[43mserver\u001b[49m\u001b[38;5;241;43m.\u001b[39;49m\u001b[43mServerConfig\u001b[49m\u001b[43m(\u001b[49m\u001b[43mnum_rounds\u001b[49m\u001b[38;5;241;43m=\u001b[39;49m\u001b[38;5;241;43m10\u001b[39;49m\u001b[43m)\u001b[49m\u001b[43m,\u001b[49m\u001b[43m  \u001b[49m\u001b[38;5;66;43;03m# let's run for 10 rounds\u001b[39;49;00m\n\u001b[1;32m      5\u001b[0m \u001b[43m    \u001b[49m\u001b[43mstrategy\u001b[49m\u001b[38;5;241;43m=\u001b[39;49m\u001b[43mstrategy\u001b[49m\u001b[43m,\u001b[49m\u001b[43m  \u001b[49m\u001b[38;5;66;43;03m# the strategy that will orchestrate the whole FL pipeline\u001b[39;49;00m\n\u001b[1;32m      6\u001b[0m \u001b[43m    \u001b[49m\u001b[43mclient_resources\u001b[49m\u001b[38;5;241;43m=\u001b[39;49m\u001b[43mclient_resources\u001b[49m\u001b[43m,\u001b[49m\n\u001b[1;32m      7\u001b[0m \u001b[43m    \u001b[49m\u001b[43mactor_kwargs\u001b[49m\u001b[38;5;241;43m=\u001b[39;49m\u001b[43m{\u001b[49m\n\u001b[1;32m      8\u001b[0m \u001b[43m        \u001b[49m\u001b[38;5;124;43m\"\u001b[39;49m\u001b[38;5;124;43mon_actor_init_fn\u001b[39;49m\u001b[38;5;124;43m\"\u001b[39;49m\u001b[43m:\u001b[49m\u001b[43m \u001b[49m\u001b[43mdisable_progress_bar\u001b[49m\u001b[43m  \u001b[49m\u001b[38;5;66;43;03m# disable tqdm on each actor/process spawning virtual clients\u001b[39;49;00m\n\u001b[1;32m      9\u001b[0m \u001b[43m    \u001b[49m\u001b[43m}\u001b[49m\u001b[43m,\u001b[49m\n\u001b[1;32m     10\u001b[0m \u001b[43m)\u001b[49m\n",
      "File \u001b[0;32m/home/sharedrive/PythonCodes/.venv311_new/lib/python3.11/site-packages/flwr/simulation/app.py:359\u001b[0m, in \u001b[0;36mstart_simulation\u001b[0;34m(client_fn, num_clients, clients_ids, client_resources, server, config, strategy, client_manager, ray_init_args, keep_initialised, actor_type, actor_kwargs, actor_scheduling)\u001b[0m\n\u001b[1;32m    329\u001b[0m     log(ERROR, traceback\u001b[38;5;241m.\u001b[39mformat_exc())\n\u001b[1;32m    330\u001b[0m     log(\n\u001b[1;32m    331\u001b[0m         ERROR,\n\u001b[1;32m    332\u001b[0m         \u001b[38;5;124m\"\u001b[39m\u001b[38;5;124mYour simulation crashed :(. This could be because of several reasons. \u001b[39m\u001b[38;5;124m\"\u001b[39m\n\u001b[0;32m   (...)\u001b[0m\n\u001b[1;32m    357\u001b[0m         client_resources,\n\u001b[1;32m    358\u001b[0m     )\n\u001b[0;32m--> 359\u001b[0m     \u001b[38;5;28;01mraise\u001b[39;00m \u001b[38;5;167;01mRuntimeError\u001b[39;00m(\u001b[38;5;124m\"\u001b[39m\u001b[38;5;124mSimulation crashed.\u001b[39m\u001b[38;5;124m\"\u001b[39m) \u001b[38;5;28;01mfrom\u001b[39;00m \u001b[38;5;21;01mex\u001b[39;00m\n\u001b[1;32m    361\u001b[0m \u001b[38;5;28;01mfinally\u001b[39;00m:\n\u001b[1;32m    362\u001b[0m     \u001b[38;5;66;03m# Stop time monitoring resources in cluster\u001b[39;00m\n\u001b[1;32m    363\u001b[0m     f_stop\u001b[38;5;241m.\u001b[39mset()\n",
      "\u001b[0;31mRuntimeError\u001b[0m: Simulation crashed."
     ]
    }
   ],
   "source": [
    "history = fl.simulation.start_simulation(\n",
    "    client_fn=client_fn_callback,  # a callback to construct a client\n",
    "    num_clients=NUM_CLIENTS,  # total number of clients in the experiment\n",
    "    config=fl.server.ServerConfig(num_rounds=10),  # let's run for 10 rounds\n",
    "    strategy=strategy,  # the strategy that will orchestrate the whole FL pipeline\n",
    "    client_resources=client_resources,\n",
    "    actor_kwargs={\n",
    "        \"on_actor_init_fn\": disable_progress_bar  # disable tqdm on each actor/process spawning virtual clients\n",
    "    },\n",
    ")"
   ]
  },
  {
   "cell_type": "code",
   "execution_count": 12,
   "id": "d83cbb24-e05c-4817-87a5-1a13a053eba8",
   "metadata": {},
   "outputs": [
    {
     "data": {
      "text/plain": [
       "'/home/sharedrive/PythonCodes/FL_IDS/IDS'"
      ]
     },
     "execution_count": 12,
     "metadata": {},
     "output_type": "execute_result"
    }
   ],
   "source": [
    "%pwd"
   ]
  },
  {
   "cell_type": "code",
   "execution_count": null,
   "id": "32d0633b-ae6d-4a61-a2f1-7f912bc95cf7",
   "metadata": {},
   "outputs": [],
   "source": []
  }
 ],
 "metadata": {
  "kernelspec": {
   "display_name": "Python 3 (ipykernel)",
   "language": "python",
   "name": "python3"
  },
  "language_info": {
   "codemirror_mode": {
    "name": "ipython",
    "version": 3
   },
   "file_extension": ".py",
   "mimetype": "text/x-python",
   "name": "python",
   "nbconvert_exporter": "python",
   "pygments_lexer": "ipython3",
   "version": "3.11.6"
  }
 },
 "nbformat": 4,
 "nbformat_minor": 5
}
